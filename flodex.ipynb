{
 "cells": [
  {
   "cell_type": "code",
   "execution_count": 1,
   "metadata": {},
   "outputs": [],
   "source": [
    "import stanza\n",
    "import pandas as pd\n",
    "import numpy as np\n",
    "import seaborn as sns\n",
    "import matplotlib.pyplot as plt\n",
    "%matplotlib inline"
   ]
  },
  {
   "cell_type": "markdown",
   "metadata": {},
   "source": [
    "# UPOS Reference List\n",
    "\n",
    "    ADJ: adjective\n",
    "    ADP: adposition\n",
    "    ADV: adverb\n",
    "    AUX: auxiliary\n",
    "    CCONJ: coordinating conjunction\n",
    "    DET: determiner\n",
    "    INTJ: interjection\n",
    "    NOUN: noun\n",
    "    NUM: numeral\n",
    "    PART: particle\n",
    "    PRON: pronoun\n",
    "    PROPN: proper noun\n",
    "    PUNCT: punctuation\n",
    "    SCONJ: subordinating conjunction\n",
    "    SYM: symbol\n",
    "    VERB: verb\n",
    "    X: other\n"
   ]
  },
  {
   "cell_type": "markdown",
   "metadata": {},
   "source": [
    "# Setup Stanza NLP with Pre-trained English Language Model"
   ]
  },
  {
   "cell_type": "code",
   "execution_count": 2,
   "metadata": {
    "scrolled": true
   },
   "outputs": [
    {
     "name": "stdout",
     "output_type": "stream",
     "text": [
      "Downloading English model...\n"
     ]
    },
    {
     "name": "stderr",
     "output_type": "stream",
     "text": [
      "Downloading https://raw.githubusercontent.com/stanfordnlp/stanza-resources/master/resources_1.2.0.json: 128kB [00:00, 18.2MB/s]                    \n",
      "2021-02-13 14:08:51 INFO: Downloading default packages for language: en (English)...\n",
      "2021-02-13 14:08:52 INFO: File exists: /home/neon/stanza_resources/en/default.zip.\n",
      "2021-02-13 14:08:55 INFO: Finished downloading models and saved to /home/neon/stanza_resources.\n"
     ]
    }
   ],
   "source": [
    "print('Downloading English model...')\n",
    "stanza.download('en')"
   ]
  },
  {
   "cell_type": "code",
   "execution_count": 3,
   "metadata": {
    "scrolled": true
   },
   "outputs": [
    {
     "name": "stderr",
     "output_type": "stream",
     "text": [
      "2021-02-13 14:08:55 INFO: Loading these models for language: en (English):\n",
      "=========================\n",
      "| Processor | Package   |\n",
      "-------------------------\n",
      "| tokenize  | combined  |\n",
      "| pos       | combined  |\n",
      "| lemma     | combined  |\n",
      "| depparse  | combined  |\n",
      "| sentiment | sstplus   |\n",
      "| ner       | ontonotes |\n",
      "=========================\n",
      "\n",
      "2021-02-13 14:08:55 INFO: Use device: cpu\n",
      "2021-02-13 14:08:55 INFO: Loading: tokenize\n",
      "2021-02-13 14:08:55 INFO: Loading: pos\n"
     ]
    },
    {
     "name": "stdout",
     "output_type": "stream",
     "text": [
      "Building an English pipeline...\n"
     ]
    },
    {
     "name": "stderr",
     "output_type": "stream",
     "text": [
      "2021-02-13 14:08:55 INFO: Loading: lemma\n",
      "2021-02-13 14:08:55 INFO: Loading: depparse\n",
      "2021-02-13 14:08:56 INFO: Loading: sentiment\n",
      "2021-02-13 14:08:56 INFO: Loading: ner\n",
      "2021-02-13 14:08:56 INFO: Done loading processors!\n"
     ]
    }
   ],
   "source": [
    "print('Building an English pipeline...')\n",
    "en_nlp = stanza.Pipeline('en')"
   ]
  },
  {
   "cell_type": "markdown",
   "metadata": {},
   "source": [
    "# Setup for Processing .txt Files into Pandas DataFrames"
   ]
  },
  {
   "cell_type": "code",
   "execution_count": 4,
   "metadata": {},
   "outputs": [],
   "source": [
    "def get_hier(sent_no_str, sent_loc_ind):\n",
    "    \n",
    "    '''Input the index number of the sentence as a string, i.e. \"Sentence 1\",\n",
    "    then give the sentence index location in the list of dicts, and include name for new df'''\n",
    "\n",
    "    outside = [str(sent_no_str)]*len(sent_loc_ind)\n",
    "    inside = list(range(len(sent_loc_ind)))\n",
    "    hier_index = list(zip(outside,inside))\n",
    "    multi_index = pd.MultiIndex.from_tuples(hier_index)\n",
    "    \n",
    "    df = pd.DataFrame(sent_loc_ind, index = multi_index)\n",
    "    df.drop('id',axis=1,inplace=True)\n",
    "    \n",
    "    return df\n",
    "    "
   ]
  },
  {
   "cell_type": "code",
   "execution_count": 5,
   "metadata": {},
   "outputs": [],
   "source": [
    "class Section:\n",
    "    \n",
    "    def __init__(self, section):\n",
    "        self.section = section\n",
    "        self.sentences = len(section)\n",
    "        self.indices = [num for num in range(0,self.sentences)]\n",
    "        \n",
    "    def get_hier(self,sent_no_str, sent_loc_ind):\n",
    "    \n",
    "        '''Input the index number of the sentence as a string, i.e. \"Sentence 1\",\n",
    "        then give the sentence index location in the list of dicts, and include name for new df'''\n",
    "\n",
    "        outside = [str(sent_no_str)]*len(self.section[sent_loc_ind])\n",
    "        inside = list(range(len(self.section[sent_loc_ind])))\n",
    "        hier_index = list(zip(outside,inside))\n",
    "        multi_index = pd.MultiIndex.from_tuples(hier_index)\n",
    "    \n",
    "        df = pd.DataFrame(self.section[sent_loc_ind], index = multi_index)\n",
    "        df.drop('id',axis=1,inplace=True)\n",
    "    \n",
    "        return df\n",
    "    \n",
    "    def frame_concat(self):\n",
    "\n",
    "        df_list = []\n",
    "    \n",
    "        while len(df_list) < self.sentences:\n",
    "    \n",
    "            for i in self.indices:\n",
    "    \n",
    "                sent_no = f'Sent {self.indices[i]}'\n",
    "                df_no = f'df {self.indices[i]}'\n",
    "                df_no = self.get_hier(sent_no,self.indices[i])\n",
    "                df_list.append(df_no)\n",
    "            \n",
    "        df = pd.concat(df_list)\n",
    "    \n",
    "        return df"
   ]
  },
  {
   "cell_type": "markdown",
   "metadata": {},
   "source": [
    "# Nahuatl Section 19"
   ]
  },
  {
   "cell_type": "code",
   "execution_count": 6,
   "metadata": {},
   "outputs": [],
   "source": [
    "with open('n19', 'r') as nineteen:\n",
    "    n19 = en_nlp(nineteen.read())\n",
    "    n19 = n19.to_dict()"
   ]
  },
  {
   "cell_type": "code",
   "execution_count": 7,
   "metadata": {},
   "outputs": [],
   "source": [
    "n19s = Section(n19)"
   ]
  },
  {
   "cell_type": "code",
   "execution_count": 8,
   "metadata": {
    "scrolled": true
   },
   "outputs": [],
   "source": [
    "n19df = n19s.frame_concat()"
   ]
  },
  {
   "cell_type": "markdown",
   "metadata": {},
   "source": [
    "# Spanish Section 19"
   ]
  },
  {
   "cell_type": "code",
   "execution_count": 9,
   "metadata": {},
   "outputs": [],
   "source": [
    "with open('s19', 'r') as s19:\n",
    "    s19 = en_nlp(s19.read())\n",
    "    s19 = s19.to_dict()\n",
    "    \n",
    "s19s = Section(s19)\n",
    "s19df = s19s.frame_concat()"
   ]
  },
  {
   "cell_type": "markdown",
   "metadata": {},
   "source": [
    "# Nahuatl Section 20"
   ]
  },
  {
   "cell_type": "code",
   "execution_count": 10,
   "metadata": {},
   "outputs": [],
   "source": [
    "with open('n20', 'r') as n20:\n",
    "    n20 = en_nlp(n20.read())\n",
    "    n20 = n20.to_dict()"
   ]
  },
  {
   "cell_type": "code",
   "execution_count": 11,
   "metadata": {},
   "outputs": [],
   "source": [
    "n20s = Section(n20)"
   ]
  },
  {
   "cell_type": "code",
   "execution_count": 12,
   "metadata": {
    "scrolled": false
   },
   "outputs": [],
   "source": [
    "n20df = n20s.frame_concat()"
   ]
  },
  {
   "cell_type": "markdown",
   "metadata": {},
   "source": [
    "# Spanish Section 20"
   ]
  },
  {
   "cell_type": "code",
   "execution_count": 13,
   "metadata": {},
   "outputs": [],
   "source": [
    "with open('s20', 'r') as s20:\n",
    "    s20 = en_nlp(s20.read())\n",
    "    s20 = s20.to_dict()\n",
    "    \n",
    "s20s = Section(s20)\n",
    "s20df = s20s.frame_concat()"
   ]
  },
  {
   "cell_type": "markdown",
   "metadata": {},
   "source": [
    "# Nahuatl Section 21"
   ]
  },
  {
   "cell_type": "code",
   "execution_count": 14,
   "metadata": {},
   "outputs": [],
   "source": [
    "with open('n21', 'r') as n21:\n",
    "    n21 = en_nlp(n21.read())\n",
    "    n21 = n21.to_dict()\n",
    "    \n",
    "n21s = Section(n21)\n",
    "n21df = n21s.frame_concat()"
   ]
  },
  {
   "cell_type": "markdown",
   "metadata": {},
   "source": [
    "# Spanish Section 21"
   ]
  },
  {
   "cell_type": "code",
   "execution_count": 15,
   "metadata": {},
   "outputs": [],
   "source": [
    "with open('s21', 'r') as s21:\n",
    "    s21 = en_nlp(s21.read())\n",
    "    s21 = s21.to_dict()\n",
    "    \n",
    "s21s = Section(s21)\n",
    "s21df = s21s.frame_concat()"
   ]
  },
  {
   "cell_type": "markdown",
   "metadata": {},
   "source": [
    "# EDA"
   ]
  },
  {
   "cell_type": "code",
   "execution_count": 16,
   "metadata": {},
   "outputs": [
    {
     "data": {
      "text/plain": [
       "NOUN     8\n",
       "VERB     7\n",
       "ADP      5\n",
       "AUX      4\n",
       "PUNCT    4\n",
       "DET      4\n",
       "ADV      2\n",
       "SCONJ    2\n",
       "CCONJ    2\n",
       "PRON     1\n",
       "Name: upos, dtype: int64"
      ]
     },
     "execution_count": 16,
     "metadata": {},
     "output_type": "execute_result"
    }
   ],
   "source": [
    "#Univ POSs for sentence one\n",
    "n20df.loc[('Sent 1')]['upos'].value_counts()"
   ]
  },
  {
   "cell_type": "code",
   "execution_count": 17,
   "metadata": {
    "scrolled": false
   },
   "outputs": [
    {
     "data": {
      "image/png": "[encoded data removed]",
      "text/plain": [
       "<Figure size 1080x864 with 1 Axes>"
      ]
     },
     "metadata": {
      "needs_background": "light"
     },
     "output_type": "display_data"
    }
   ],
   "source": [
    "plt.figure(figsize=(15,12))\n",
    "sns.countplot(x=n20df['upos'])\n",
    "plt.title('UPOS in Nahuatl Section 20')\n",
    "plt.savefig(\"s20.png\",transparent=True)"
   ]
  },
  {
   "cell_type": "code",
   "execution_count": 18,
   "metadata": {},
   "outputs": [],
   "source": [
    "def sent_length(section):\n",
    "    \n",
    "    sent_lengths = []\n",
    "    for sent in section:\n",
    "        sent_lengths.append(len(sent))\n",
    "    return sent_lengths"
   ]
  },
  {
   "cell_type": "code",
   "execution_count": 19,
   "metadata": {},
   "outputs": [],
   "source": [
    "n = sent_length(n20)\n",
    "#n"
   ]
  },
  {
   "cell_type": "code",
   "execution_count": 20,
   "metadata": {},
   "outputs": [
    {
     "data": {
      "text/plain": [
       "20.161290322580644"
      ]
     },
     "execution_count": 20,
     "metadata": {},
     "output_type": "execute_result"
    }
   ],
   "source": [
    "#Average sentence length\n",
    "sum(n)/len(n)"
   ]
  },
  {
   "cell_type": "code",
   "execution_count": 21,
   "metadata": {},
   "outputs": [
    {
     "data": {
      "text/plain": [
       "VERB     17.12\n",
       "NOUN     15.36\n",
       "PUNCT    14.40\n",
       "PRON     11.20\n",
       "ADP       9.44\n",
       "DET       9.44\n",
       "CCONJ     4.96\n",
       "AUX       4.64\n",
       "ADV       4.64\n",
       "ADJ       2.88\n",
       "SCONJ     2.56\n",
       "PROPN     1.92\n",
       "PART      1.44\n",
       "Name: upos, dtype: float64"
      ]
     },
     "execution_count": 21,
     "metadata": {},
     "output_type": "execute_result"
    }
   ],
   "source": [
    "#Percentage of UPOS used in Nahuatl Section 20\n",
    "n20_pos = 100 * n20df['upos'].value_counts()/n20df['upos'].value_counts().sum()\n",
    "n20_pos"
   ]
  },
  {
   "cell_type": "code",
   "execution_count": 22,
   "metadata": {},
   "outputs": [
    {
     "data": {
      "image/png": "[encoded data removed]",
      "text/plain": [
       "<Figure size 1080x864 with 1 Axes>"
      ]
     },
     "metadata": {
      "needs_background": "light"
     },
     "output_type": "display_data"
    }
   ],
   "source": [
    "s20df.loc[('Sent 1')]['upos'].value_counts()\n",
    "\n",
    "plt.figure(figsize=(15,12))\n",
    "sns.countplot(x=s20df['upos'])\n",
    "plt.title('UPOS in Spanish Section 20')\n",
    "plt.savefig(\"s20.png\",transparent=True)"
   ]
  },
  {
   "cell_type": "code",
   "execution_count": 23,
   "metadata": {},
   "outputs": [
    {
     "data": {
      "text/plain": [
       "NOUN     14.893617\n",
       "VERB     14.893617\n",
       "ADP      14.468085\n",
       "DET      13.191489\n",
       "PUNCT    12.340426\n",
       "PRON      9.787234\n",
       "SCONJ     3.829787\n",
       "ADJ       3.829787\n",
       "AUX       3.404255\n",
       "PROPN     3.404255\n",
       "CCONJ     2.978723\n",
       "PART      1.702128\n",
       "ADV       0.851064\n",
       "NUM       0.425532\n",
       "Name: upos, dtype: float64"
      ]
     },
     "execution_count": 23,
     "metadata": {},
     "output_type": "execute_result"
    }
   ],
   "source": [
    "#Percentage of UPOS used in Spanish Section 20\n",
    "s20_pos = 100 * s20df['upos'].value_counts()/s20df['upos'].value_counts().sum()\n",
    "s20_pos"
   ]
  },
  {
   "cell_type": "code",
   "execution_count": 24,
   "metadata": {},
   "outputs": [
    {
     "data": {
      "text/plain": [
       "[30, 34, 16, 14, 14, 11, 6, 17, 11, 16, 15, 23, 4, 24]"
      ]
     },
     "execution_count": 24,
     "metadata": {},
     "output_type": "execute_result"
    }
   ],
   "source": [
    "def sent_length(section):\n",
    "    \n",
    "    sent_lengths = []\n",
    "    for sent in section:\n",
    "        sent_lengths.append(len(sent))\n",
    "    return sent_lengths\n",
    "\n",
    "d = sent_length(s20)\n",
    "d"
   ]
  },
  {
   "cell_type": "code",
   "execution_count": 25,
   "metadata": {},
   "outputs": [
    {
     "data": {
      "text/plain": [
       "16.785714285714285"
      ]
     },
     "execution_count": 25,
     "metadata": {},
     "output_type": "execute_result"
    }
   ],
   "source": [
    "#Average sentence length for s20\n",
    "sum(d)/len(d)"
   ]
  },
  {
   "cell_type": "code",
   "execution_count": 26,
   "metadata": {
    "scrolled": true
   },
   "outputs": [
    {
     "data": {
      "image/png": "[encoded data removed]",
      "text/plain": [
       "<Figure size 1080x864 with 1 Axes>"
      ]
     },
     "metadata": {
      "needs_background": "light"
     },
     "output_type": "display_data"
    }
   ],
   "source": [
    "n21df.loc[('Sent 1')]['upos'].value_counts()\n",
    "\n",
    "plt.figure(figsize=(15,12))\n",
    "sns.countplot(x=n21df['upos'])\n",
    "plt.title('UPOS in Nahuatl Section 21')\n",
    "plt.savefig(\"n21.png\",transparent=True)"
   ]
  },
  {
   "cell_type": "code",
   "execution_count": 27,
   "metadata": {},
   "outputs": [
    {
     "data": {
      "text/plain": [
       "VERB     16.192345\n",
       "PRON     14.622179\n",
       "PUNCT    13.738960\n",
       "NOUN     11.678116\n",
       "ADP       8.341511\n",
       "AUX       6.673209\n",
       "DET       6.476938\n",
       "CCONJ     5.201178\n",
       "ADV       4.710500\n",
       "ADJ       3.238469\n",
       "PROPN     3.140334\n",
       "SCONJ     2.944063\n",
       "PART      2.158979\n",
       "NUM       0.883219\n",
       "Name: upos, dtype: float64"
      ]
     },
     "execution_count": 27,
     "metadata": {},
     "output_type": "execute_result"
    }
   ],
   "source": [
    "#Percentage of UPOS used in Nahuatl Section 21\n",
    "n21_pos = 100 * n21df['upos'].value_counts()/n21df['upos'].value_counts().sum()\n",
    "n21_pos"
   ]
  },
  {
   "cell_type": "code",
   "execution_count": 28,
   "metadata": {},
   "outputs": [],
   "source": [
    "def sent_length(section):\n",
    "    \n",
    "    sent_lengths = []\n",
    "    for sent in section:\n",
    "        sent_lengths.append(len(sent))\n",
    "    return sent_lengths\n",
    "\n",
    "e = sent_length(n21)\n",
    "#e"
   ]
  },
  {
   "cell_type": "code",
   "execution_count": 29,
   "metadata": {},
   "outputs": [
    {
     "data": {
      "text/plain": [
       "21.229166666666668"
      ]
     },
     "execution_count": 29,
     "metadata": {},
     "output_type": "execute_result"
    }
   ],
   "source": [
    "#Average sentence length for n21\n",
    "sum(e)/len(e)"
   ]
  },
  {
   "cell_type": "code",
   "execution_count": 30,
   "metadata": {},
   "outputs": [
    {
     "data": {
      "image/png": "[encoded data removed]",
      "text/plain": [
       "<Figure size 1080x864 with 1 Axes>"
      ]
     },
     "metadata": {
      "needs_background": "light"
     },
     "output_type": "display_data"
    }
   ],
   "source": [
    "s21df.loc[('Sent 1')]['upos'].value_counts()\n",
    "\n",
    "plt.figure(figsize=(15,12))\n",
    "sns.countplot(x=s21df['upos'])\n",
    "plt.title('UPOS in Spanish Section 21')\n",
    "plt.savefig(\"s21.png\",transparent=True)"
   ]
  },
  {
   "cell_type": "code",
   "execution_count": 31,
   "metadata": {},
   "outputs": [
    {
     "data": {
      "text/plain": [
       "VERB     14.426230\n",
       "NOUN     12.459016\n",
       "PRON     11.147541\n",
       "PUNCT    10.491803\n",
       "ADP       9.836066\n",
       "DET       9.508197\n",
       "PROPN     6.229508\n",
       "CCONJ     5.409836\n",
       "ADV       5.245902\n",
       "AUX       4.590164\n",
       "SCONJ     4.098361\n",
       "ADJ       3.606557\n",
       "PART      1.967213\n",
       "NUM       0.983607\n",
       "Name: upos, dtype: float64"
      ]
     },
     "execution_count": 31,
     "metadata": {},
     "output_type": "execute_result"
    }
   ],
   "source": [
    "#Percentage of UPOS used in Spanish Section 21\n",
    "s21_pos = 100 * s21df['upos'].value_counts()/s21df['upos'].value_counts().sum()\n",
    "s21_pos"
   ]
  },
  {
   "cell_type": "code",
   "execution_count": 32,
   "metadata": {},
   "outputs": [],
   "source": [
    "def sent_length(section):\n",
    "    \n",
    "    sent_lengths = []\n",
    "    for sent in section:\n",
    "        sent_lengths.append(len(sent))\n",
    "    return sent_lengths\n",
    "\n",
    "f = sent_length(s21)\n",
    "#f"
   ]
  },
  {
   "cell_type": "code",
   "execution_count": 33,
   "metadata": {
    "scrolled": true
   },
   "outputs": [
    {
     "data": {
      "text/plain": [
       "26.52173913043478"
      ]
     },
     "execution_count": 33,
     "metadata": {},
     "output_type": "execute_result"
    }
   ],
   "source": [
    "#Average sentence length for s21\n",
    "sum(f)/len(f)"
   ]
  },
  {
   "cell_type": "markdown",
   "metadata": {},
   "source": []
  },
  {
   "cell_type": "code",
   "execution_count": null,
   "metadata": {},
   "outputs": [],
   "source": []
  },
  {
   "cell_type": "code",
   "execution_count": 34,
   "metadata": {},
   "outputs": [],
   "source": [
    "pos = {'n20':n20_pos,'s20':s20_pos,'n21':n21_pos,'s21':s21_pos} #Dictionary out of percentages of used UPOS in each section\n",
    "posdf = pd.DataFrame(pos) #Dataframe of that ish"
   ]
  },
  {
   "cell_type": "code",
   "execution_count": 35,
   "metadata": {},
   "outputs": [
    {
     "data": {
      "text/html": [
       "<div>\n",
       "<style scoped>\n",
       "    .dataframe tbody tr th:only-of-type {\n",
       "        vertical-align: middle;\n",
       "    }\n",
       "\n",
       "    .dataframe tbody tr th {\n",
       "        vertical-align: top;\n",
       "    }\n",
       "\n",
       "    .dataframe thead th {\n",
       "        text-align: right;\n",
       "    }\n",
       "</style>\n",
       "<table border=\"1\" class=\"dataframe\">\n",
       "  <thead>\n",
       "    <tr style=\"text-align: right;\">\n",
       "      <th></th>\n",
       "      <th>n20</th>\n",
       "      <th>s20</th>\n",
       "      <th>n21</th>\n",
       "      <th>s21</th>\n",
       "    </tr>\n",
       "  </thead>\n",
       "  <tbody>\n",
       "    <tr>\n",
       "      <th>ADJ</th>\n",
       "      <td>2.88</td>\n",
       "      <td>3.829787</td>\n",
       "      <td>3.238469</td>\n",
       "      <td>3.606557</td>\n",
       "    </tr>\n",
       "    <tr>\n",
       "      <th>ADP</th>\n",
       "      <td>9.44</td>\n",
       "      <td>14.468085</td>\n",
       "      <td>8.341511</td>\n",
       "      <td>9.836066</td>\n",
       "    </tr>\n",
       "    <tr>\n",
       "      <th>ADV</th>\n",
       "      <td>4.64</td>\n",
       "      <td>0.851064</td>\n",
       "      <td>4.710500</td>\n",
       "      <td>5.245902</td>\n",
       "    </tr>\n",
       "    <tr>\n",
       "      <th>AUX</th>\n",
       "      <td>4.64</td>\n",
       "      <td>3.404255</td>\n",
       "      <td>6.673209</td>\n",
       "      <td>4.590164</td>\n",
       "    </tr>\n",
       "    <tr>\n",
       "      <th>CCONJ</th>\n",
       "      <td>4.96</td>\n",
       "      <td>2.978723</td>\n",
       "      <td>5.201178</td>\n",
       "      <td>5.409836</td>\n",
       "    </tr>\n",
       "    <tr>\n",
       "      <th>DET</th>\n",
       "      <td>9.44</td>\n",
       "      <td>13.191489</td>\n",
       "      <td>6.476938</td>\n",
       "      <td>9.508197</td>\n",
       "    </tr>\n",
       "    <tr>\n",
       "      <th>NOUN</th>\n",
       "      <td>15.36</td>\n",
       "      <td>14.893617</td>\n",
       "      <td>11.678116</td>\n",
       "      <td>12.459016</td>\n",
       "    </tr>\n",
       "    <tr>\n",
       "      <th>NUM</th>\n",
       "      <td>NaN</td>\n",
       "      <td>0.425532</td>\n",
       "      <td>0.883219</td>\n",
       "      <td>0.983607</td>\n",
       "    </tr>\n",
       "    <tr>\n",
       "      <th>PART</th>\n",
       "      <td>1.44</td>\n",
       "      <td>1.702128</td>\n",
       "      <td>2.158979</td>\n",
       "      <td>1.967213</td>\n",
       "    </tr>\n",
       "    <tr>\n",
       "      <th>PRON</th>\n",
       "      <td>11.20</td>\n",
       "      <td>9.787234</td>\n",
       "      <td>14.622179</td>\n",
       "      <td>11.147541</td>\n",
       "    </tr>\n",
       "    <tr>\n",
       "      <th>PROPN</th>\n",
       "      <td>1.92</td>\n",
       "      <td>3.404255</td>\n",
       "      <td>3.140334</td>\n",
       "      <td>6.229508</td>\n",
       "    </tr>\n",
       "    <tr>\n",
       "      <th>PUNCT</th>\n",
       "      <td>14.40</td>\n",
       "      <td>12.340426</td>\n",
       "      <td>13.738960</td>\n",
       "      <td>10.491803</td>\n",
       "    </tr>\n",
       "    <tr>\n",
       "      <th>SCONJ</th>\n",
       "      <td>2.56</td>\n",
       "      <td>3.829787</td>\n",
       "      <td>2.944063</td>\n",
       "      <td>4.098361</td>\n",
       "    </tr>\n",
       "    <tr>\n",
       "      <th>VERB</th>\n",
       "      <td>17.12</td>\n",
       "      <td>14.893617</td>\n",
       "      <td>16.192345</td>\n",
       "      <td>14.426230</td>\n",
       "    </tr>\n",
       "  </tbody>\n",
       "</table>\n",
       "</div>"
      ],
      "text/plain": [
       "         n20        s20        n21        s21\n",
       "ADJ     2.88   3.829787   3.238469   3.606557\n",
       "ADP     9.44  14.468085   8.341511   9.836066\n",
       "ADV     4.64   0.851064   4.710500   5.245902\n",
       "AUX     4.64   3.404255   6.673209   4.590164\n",
       "CCONJ   4.96   2.978723   5.201178   5.409836\n",
       "DET     9.44  13.191489   6.476938   9.508197\n",
       "NOUN   15.36  14.893617  11.678116  12.459016\n",
       "NUM      NaN   0.425532   0.883219   0.983607\n",
       "PART    1.44   1.702128   2.158979   1.967213\n",
       "PRON   11.20   9.787234  14.622179  11.147541\n",
       "PROPN   1.92   3.404255   3.140334   6.229508\n",
       "PUNCT  14.40  12.340426  13.738960  10.491803\n",
       "SCONJ   2.56   3.829787   2.944063   4.098361\n",
       "VERB   17.12  14.893617  16.192345  14.426230"
      ]
     },
     "execution_count": 35,
     "metadata": {},
     "output_type": "execute_result"
    }
   ],
   "source": [
    "posdf"
   ]
  },
  {
   "cell_type": "code",
   "execution_count": 36,
   "metadata": {},
   "outputs": [],
   "source": [
    "index=['ADJ','ADP','ADV','AUX','CCONJ','DET','NOUN','NUM','PART','PRON','PROPN','PUNCT','SCONJ','VERB']"
   ]
  },
  {
   "cell_type": "code",
   "execution_count": 37,
   "metadata": {},
   "outputs": [
    {
     "data": {
      "text/plain": [
       "Index(['ADJ', 'ADP', 'ADV', 'AUX', 'CCONJ', 'DET', 'NOUN', 'NUM', 'PART',\n",
       "       'PRON', 'PROPN', 'PUNCT', 'SCONJ', 'VERB'],\n",
       "      dtype='object')"
      ]
     },
     "execution_count": 37,
     "metadata": {},
     "output_type": "execute_result"
    }
   ],
   "source": [
    "posdf.index"
   ]
  },
  {
   "cell_type": "code",
   "execution_count": 38,
   "metadata": {},
   "outputs": [
    {
     "data": {
      "text/plain": [
       "<AxesSubplot:title={'center':'Use of UPOS by translation and section as a %'}>"
      ]
     },
     "execution_count": 38,
     "metadata": {},
     "output_type": "execute_result"
    },
    {
     "data": {
      "image/png": "[encoded data removed]",
      "text/plain": [
       "<Figure size 1080x864 with 1 Axes>"
      ]
     },
     "metadata": {
      "needs_background": "light"
     },
     "output_type": "display_data"
    }
   ],
   "source": [
    "posdf.plot(kind='bar',figsize=(15,12),title='Use of UPOS by translation and section as a %')"
   ]
  },
  {
   "cell_type": "code",
   "execution_count": 39,
   "metadata": {},
   "outputs": [
    {
     "data": {
      "text/plain": [
       "<AxesSubplot:>"
      ]
     },
     "execution_count": 39,
     "metadata": {},
     "output_type": "execute_result"
    },
    {
     "data": {
      "image/png": "[encoded data removed]",
      "text/plain": [
       "<Figure size 720x576 with 2 Axes>"
      ]
     },
     "metadata": {
      "needs_background": "light"
     },
     "output_type": "display_data"
    }
   ],
   "source": [
    "plt.figure(figsize=(10,8))\n",
    "sns.heatmap(posdf)"
   ]
  },
  {
   "cell_type": "code",
   "execution_count": null,
   "metadata": {},
   "outputs": [],
   "source": []
  }
 ],
 "metadata": {
  "kernelspec": {
   "display_name": "Python 3",
   "language": "python",
   "name": "python3"
  },
  "language_info": {
   "codemirror_mode": {
    "name": "ipython",
    "version": 3
   },
   "file_extension": ".py",
   "mimetype": "text/x-python",
   "name": "python",
   "nbconvert_exporter": "python",
   "pygments_lexer": "ipython3",
   "version": "3.7.9"
  }
 },
 "nbformat": 4,
 "nbformat_minor": 4
}
