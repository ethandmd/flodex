{
 "cells": [
  {
   "cell_type": "code",
   "execution_count": 1,
   "metadata": {},
   "outputs": [],
   "source": [
    "import stanza\n",
    "import pandas as pd\n",
    "import numpy as np"
   ]
  },
  {
   "cell_type": "markdown",
   "metadata": {},
   "source": [
    "# UPOS Reference List\n",
    "\n",
    "    ADJ: adjective\n",
    "    ADP: adposition\n",
    "    ADV: adverb\n",
    "    AUX: auxiliary\n",
    "    CCONJ: coordinating conjunction\n",
    "    DET: determiner\n",
    "    INTJ: interjection\n",
    "    NOUN: noun\n",
    "    NUM: numeral\n",
    "    PART: particle\n",
    "    PRON: pronoun\n",
    "    PROPN: proper noun\n",
    "    PUNCT: punctuation\n",
    "    SCONJ: subordinating conjunction\n",
    "    SYM: symbol\n",
    "    VERB: verb\n",
    "    X: other\n"
   ]
  },
  {
   "cell_type": "code",
   "execution_count": 2,
   "metadata": {
    "scrolled": true
   },
   "outputs": [
    {
     "name": "stdout",
     "output_type": "stream",
     "text": [
      "Downloading English model...\n"
     ]
    },
    {
     "name": "stderr",
     "output_type": "stream",
     "text": [
      "Downloading https://raw.githubusercontent.com/stanfordnlp/stanza-resources/master/resources_1.2.0.json: 128kB [00:00, 14.9MB/s]                    \n",
      "2021-02-09 12:36:42 INFO: Downloading default packages for language: en (English)...\n",
      "2021-02-09 12:36:43 INFO: File exists: /home/neon/stanza_resources/en/default.zip.\n",
      "2021-02-09 12:36:50 INFO: Finished downloading models and saved to /home/neon/stanza_resources.\n"
     ]
    }
   ],
   "source": [
    "print('Downloading English model...')\n",
    "stanza.download('en')"
   ]
  },
  {
   "cell_type": "code",
   "execution_count": 3,
   "metadata": {},
   "outputs": [
    {
     "name": "stderr",
     "output_type": "stream",
     "text": [
      "2021-02-09 12:36:50 INFO: Loading these models for language: en (English):\n",
      "=========================\n",
      "| Processor | Package   |\n",
      "-------------------------\n",
      "| tokenize  | combined  |\n",
      "| pos       | combined  |\n",
      "| lemma     | combined  |\n",
      "| depparse  | combined  |\n",
      "| sentiment | sstplus   |\n",
      "| ner       | ontonotes |\n",
      "=========================\n",
      "\n",
      "2021-02-09 12:36:50 INFO: Use device: cpu\n",
      "2021-02-09 12:36:50 INFO: Loading: tokenize\n",
      "2021-02-09 12:36:50 INFO: Loading: pos\n"
     ]
    },
    {
     "name": "stdout",
     "output_type": "stream",
     "text": [
      "Building an English pipeline...\n"
     ]
    },
    {
     "name": "stderr",
     "output_type": "stream",
     "text": [
      "2021-02-09 12:36:50 INFO: Loading: lemma\n",
      "2021-02-09 12:36:50 INFO: Loading: depparse\n",
      "2021-02-09 12:36:50 INFO: Loading: sentiment\n",
      "2021-02-09 12:36:51 INFO: Loading: ner\n",
      "2021-02-09 12:36:51 INFO: Done loading processors!\n"
     ]
    }
   ],
   "source": [
    "print('Building an English pipeline...')\n",
    "en_nlp = stanza.Pipeline('en')"
   ]
  },
  {
   "cell_type": "code",
   "execution_count": 87,
   "metadata": {},
   "outputs": [],
   "source": [
    "def get_hier(sent_no_str, sent_loc_ind):\n",
    "    \n",
    "    '''Input the index number of the sentence as a string, i.e. \"Sentence 1\",\n",
    "    then give the sentence index location in the list of dicts, and include name for new df'''\n",
    "\n",
    "    outside = [str(sent_no_str)]*len(sent_loc_ind)\n",
    "    inside = list(range(len(sent_loc_ind)))\n",
    "    hier_index = list(zip(outside,inside))\n",
    "    multi_index = pd.MultiIndex.from_tuples(hier_index)\n",
    "    \n",
    "    df = pd.DataFrame(sent_loc_ind, index = multi_index)\n",
    "    df.drop('id',axis=1,inplace=True)\n",
    "    \n",
    "    return df\n",
    "    "
   ]
  },
  {
   "cell_type": "code",
   "execution_count": 50,
   "metadata": {},
   "outputs": [],
   "source": [
    "#Process text into stanza document using en_nlp pipeline\n",
    "s15 = en_nlp(\"Chapter Fifteen, of how the Spaniardsdeparted from Itztapalapan to enter Mexico. The Spaniards departed from Itztapalapan all outfitted for war and ordered bysquadrons. Some horsemen went ahead tosee if there was some ambush; they also took the greyhounds ahead. Don Hernando Cortes went in the rear guard with many other Spaniards, all armef and in order. After them went the baggage and the artillery on its carriages. Many Indian warriors went along, with all their arms, many Tlaxcalans and Huexotzinca. In this order they entered Mexico.\")"
   ]
  },
  {
   "cell_type": "code",
   "execution_count": 53,
   "metadata": {},
   "outputs": [],
   "source": [
    "#Convert stanza doc into python list of dicts\n",
    "s15d = s15.to_dict()"
   ]
  },
  {
   "cell_type": "markdown",
   "metadata": {},
   "source": [
    "# Need to automate this process:"
   ]
  },
  {
   "cell_type": "code",
   "execution_count": 79,
   "metadata": {},
   "outputs": [],
   "source": [
    "adf = get_hier('Sent 1', s15d[0])\n",
    "bdf = get_hier('Sent 2', s15d[1])\n",
    "cdf = get_hier('Sent 3', s15d[2])\n",
    "ddf = get_hier('Sent 4', s15d[3])\n",
    "edf = get_hier('Sent 5', s15d[4])\n",
    "fdf = get_hier('Sent 6', s15d[5])\n",
    "gdf = get_hier('Sent 7', s15d[6])"
   ]
  },
  {
   "cell_type": "code",
   "execution_count": 80,
   "metadata": {},
   "outputs": [],
   "source": [
    "tldr = pd.concat([adf,bdf,cdf,ddf,edf,fdf,gdf])"
   ]
  },
  {
   "cell_type": "code",
   "execution_count": 86,
   "metadata": {},
   "outputs": [
    {
     "data": {
      "text/html": [
       "<div>\n",
       "<style scoped>\n",
       "    .dataframe tbody tr th:only-of-type {\n",
       "        vertical-align: middle;\n",
       "    }\n",
       "\n",
       "    .dataframe tbody tr th {\n",
       "        vertical-align: top;\n",
       "    }\n",
       "\n",
       "    .dataframe thead th {\n",
       "        text-align: right;\n",
       "    }\n",
       "</style>\n",
       "<table border=\"1\" class=\"dataframe\">\n",
       "  <thead>\n",
       "    <tr style=\"text-align: right;\">\n",
       "      <th></th>\n",
       "      <th></th>\n",
       "      <th>text</th>\n",
       "      <th>lemma</th>\n",
       "      <th>upos</th>\n",
       "      <th>xpos</th>\n",
       "      <th>feats</th>\n",
       "      <th>head</th>\n",
       "      <th>deprel</th>\n",
       "      <th>misc</th>\n",
       "      <th>ner</th>\n",
       "    </tr>\n",
       "  </thead>\n",
       "  <tbody>\n",
       "    <tr>\n",
       "      <th rowspan=\"5\" valign=\"top\">Sent 1</th>\n",
       "      <th>0</th>\n",
       "      <td>Chapter</td>\n",
       "      <td>Chapter</td>\n",
       "      <td>PROPN</td>\n",
       "      <td>NNP</td>\n",
       "      <td>Number=Sing</td>\n",
       "      <td>2</td>\n",
       "      <td>compound</td>\n",
       "      <td>start_char=0|end_char=7</td>\n",
       "      <td>O</td>\n",
       "    </tr>\n",
       "    <tr>\n",
       "      <th>1</th>\n",
       "      <td>Fifteen</td>\n",
       "      <td>Fifteen</td>\n",
       "      <td>PROPN</td>\n",
       "      <td>NNP</td>\n",
       "      <td>Number=Sing</td>\n",
       "      <td>0</td>\n",
       "      <td>root</td>\n",
       "      <td>start_char=8|end_char=15</td>\n",
       "      <td>S-CARDINAL</td>\n",
       "    </tr>\n",
       "    <tr>\n",
       "      <th>2</th>\n",
       "      <td>,</td>\n",
       "      <td>,</td>\n",
       "      <td>PUNCT</td>\n",
       "      <td>,</td>\n",
       "      <td>NaN</td>\n",
       "      <td>2</td>\n",
       "      <td>punct</td>\n",
       "      <td>start_char=15|end_char=16</td>\n",
       "      <td>O</td>\n",
       "    </tr>\n",
       "    <tr>\n",
       "      <th>3</th>\n",
       "      <td>of</td>\n",
       "      <td>of</td>\n",
       "      <td>ADP</td>\n",
       "      <td>IN</td>\n",
       "      <td>NaN</td>\n",
       "      <td>5</td>\n",
       "      <td>case</td>\n",
       "      <td>start_char=17|end_char=19</td>\n",
       "      <td>O</td>\n",
       "    </tr>\n",
       "    <tr>\n",
       "      <th>4</th>\n",
       "      <td>how</td>\n",
       "      <td>how</td>\n",
       "      <td>SCONJ</td>\n",
       "      <td>WRB</td>\n",
       "      <td>PronType=Int</td>\n",
       "      <td>2</td>\n",
       "      <td>nmod</td>\n",
       "      <td>start_char=20|end_char=23</td>\n",
       "      <td>O</td>\n",
       "    </tr>\n",
       "    <tr>\n",
       "      <th>...</th>\n",
       "      <th>...</th>\n",
       "      <td>...</td>\n",
       "      <td>...</td>\n",
       "      <td>...</td>\n",
       "      <td>...</td>\n",
       "      <td>...</td>\n",
       "      <td>...</td>\n",
       "      <td>...</td>\n",
       "      <td>...</td>\n",
       "      <td>...</td>\n",
       "    </tr>\n",
       "    <tr>\n",
       "      <th rowspan=\"5\" valign=\"top\">Sent 7</th>\n",
       "      <th>2</th>\n",
       "      <td>order</td>\n",
       "      <td>order</td>\n",
       "      <td>NOUN</td>\n",
       "      <td>NN</td>\n",
       "      <td>Number=Sing</td>\n",
       "      <td>5</td>\n",
       "      <td>obl</td>\n",
       "      <td>start_char=516|end_char=521</td>\n",
       "      <td>O</td>\n",
       "    </tr>\n",
       "    <tr>\n",
       "      <th>3</th>\n",
       "      <td>they</td>\n",
       "      <td>they</td>\n",
       "      <td>PRON</td>\n",
       "      <td>PRP</td>\n",
       "      <td>Case=Nom|Number=Plur|Person=3|PronType=Prs</td>\n",
       "      <td>5</td>\n",
       "      <td>nsubj</td>\n",
       "      <td>start_char=522|end_char=526</td>\n",
       "      <td>O</td>\n",
       "    </tr>\n",
       "    <tr>\n",
       "      <th>4</th>\n",
       "      <td>entered</td>\n",
       "      <td>enter</td>\n",
       "      <td>VERB</td>\n",
       "      <td>VBD</td>\n",
       "      <td>Mood=Ind|Tense=Past|VerbForm=Fin</td>\n",
       "      <td>0</td>\n",
       "      <td>root</td>\n",
       "      <td>start_char=527|end_char=534</td>\n",
       "      <td>O</td>\n",
       "    </tr>\n",
       "    <tr>\n",
       "      <th>5</th>\n",
       "      <td>Mexico</td>\n",
       "      <td>Mexico</td>\n",
       "      <td>PROPN</td>\n",
       "      <td>NNP</td>\n",
       "      <td>Number=Sing</td>\n",
       "      <td>5</td>\n",
       "      <td>obj</td>\n",
       "      <td>start_char=535|end_char=541</td>\n",
       "      <td>S-GPE</td>\n",
       "    </tr>\n",
       "    <tr>\n",
       "      <th>6</th>\n",
       "      <td>.</td>\n",
       "      <td>.</td>\n",
       "      <td>PUNCT</td>\n",
       "      <td>.</td>\n",
       "      <td>NaN</td>\n",
       "      <td>5</td>\n",
       "      <td>punct</td>\n",
       "      <td>start_char=541|end_char=542</td>\n",
       "      <td>O</td>\n",
       "    </tr>\n",
       "  </tbody>\n",
       "</table>\n",
       "<p>98 rows × 9 columns</p>\n",
       "</div>"
      ],
      "text/plain": [
       "             text    lemma   upos xpos  \\\n",
       "Sent 1 0  Chapter  Chapter  PROPN  NNP   \n",
       "       1  Fifteen  Fifteen  PROPN  NNP   \n",
       "       2        ,        ,  PUNCT    ,   \n",
       "       3       of       of    ADP   IN   \n",
       "       4      how      how  SCONJ  WRB   \n",
       "...           ...      ...    ...  ...   \n",
       "Sent 7 2    order    order   NOUN   NN   \n",
       "       3     they     they   PRON  PRP   \n",
       "       4  entered    enter   VERB  VBD   \n",
       "       5   Mexico   Mexico  PROPN  NNP   \n",
       "       6        .        .  PUNCT    .   \n",
       "\n",
       "                                               feats  head    deprel  \\\n",
       "Sent 1 0                                 Number=Sing     2  compound   \n",
       "       1                                 Number=Sing     0      root   \n",
       "       2                                         NaN     2     punct   \n",
       "       3                                         NaN     5      case   \n",
       "       4                                PronType=Int     2      nmod   \n",
       "...                                              ...   ...       ...   \n",
       "Sent 7 2                                 Number=Sing     5       obl   \n",
       "       3  Case=Nom|Number=Plur|Person=3|PronType=Prs     5     nsubj   \n",
       "       4            Mood=Ind|Tense=Past|VerbForm=Fin     0      root   \n",
       "       5                                 Number=Sing     5       obj   \n",
       "       6                                         NaN     5     punct   \n",
       "\n",
       "                                 misc         ner  \n",
       "Sent 1 0      start_char=0|end_char=7           O  \n",
       "       1     start_char=8|end_char=15  S-CARDINAL  \n",
       "       2    start_char=15|end_char=16           O  \n",
       "       3    start_char=17|end_char=19           O  \n",
       "       4    start_char=20|end_char=23           O  \n",
       "...                               ...         ...  \n",
       "Sent 7 2  start_char=516|end_char=521           O  \n",
       "       3  start_char=522|end_char=526           O  \n",
       "       4  start_char=527|end_char=534           O  \n",
       "       5  start_char=535|end_char=541       S-GPE  \n",
       "       6  start_char=541|end_char=542           O  \n",
       "\n",
       "[98 rows x 9 columns]"
      ]
     },
     "execution_count": 86,
     "metadata": {},
     "output_type": "execute_result"
    }
   ],
   "source": [
    "tldr"
   ]
  },
  {
   "cell_type": "code",
   "execution_count": 94,
   "metadata": {},
   "outputs": [],
   "source": [
    "import seaborn as sns\n",
    "import matplotlib.pyplot as plt\n",
    "%matplotlib inline"
   ]
  },
  {
   "cell_type": "code",
   "execution_count": null,
   "metadata": {},
   "outputs": [],
   "source": []
  }
 ],
 "metadata": {
  "kernelspec": {
   "display_name": "Python 3",
   "language": "python",
   "name": "python3"
  },
  "language_info": {
   "codemirror_mode": {
    "name": "ipython",
    "version": 3
   },
   "file_extension": ".py",
   "mimetype": "text/x-python",
   "name": "python",
   "nbconvert_exporter": "python",
   "pygments_lexer": "ipython3",
   "version": "3.7.9"
  }
 },
 "nbformat": 4,
 "nbformat_minor": 4
}
