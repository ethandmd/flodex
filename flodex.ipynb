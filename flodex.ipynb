{
 "cells": [
  {
   "cell_type": "code",
   "execution_count": 1,
   "metadata": {},
   "outputs": [],
   "source": [
    "import stanza #Main NLP tool used\n",
    "import pandas as pd #pandas\n",
    "import numpy as np #numpy\n",
    "import seaborn as sns #seaborn for dataviz\n",
    "import matplotlib.pyplot as plt #matplotlib for data viz\n",
    "%matplotlib inline"
   ]
  },
  {
   "cell_type": "markdown",
   "metadata": {},
   "source": [
    "# UPOS Reference List\n",
    "\n",
    "    ADJ: adjective\n",
    "    ADP: adposition\n",
    "    ADV: adverb\n",
    "    AUX: auxiliary\n",
    "    CCONJ: coordinating conjunction\n",
    "    DET: determiner\n",
    "    INTJ: interjection\n",
    "    NOUN: noun\n",
    "    NUM: numeral\n",
    "    PART: particle\n",
    "    PRON: pronoun\n",
    "    PROPN: proper noun\n",
    "    PUNCT: punctuation\n",
    "    SCONJ: subordinating conjunction\n",
    "    SYM: symbol\n",
    "    VERB: verb\n",
    "    X: other\n"
   ]
  },
  {
   "cell_type": "markdown",
   "metadata": {},
   "source": [
    "# Sentiment Analysis Reference:\n",
    "\n",
    "negative, neutral, positive = 0, 1, 2"
   ]
  },
  {
   "cell_type": "markdown",
   "metadata": {},
   "source": [
    "# Setup Stanza NLP with Pre-trained English Language Model"
   ]
  },
  {
   "cell_type": "code",
   "execution_count": 2,
   "metadata": {
    "scrolled": true
   },
   "outputs": [
    {
     "name": "stdout",
     "output_type": "stream",
     "text": [
      "Downloading English model...\n"
     ]
    },
    {
     "name": "stderr",
     "output_type": "stream",
     "text": [
      "Downloading https://raw.githubusercontent.com/stanfordnlp/stanza-resources/master/resources_1.2.0.json: 128kB [00:00, 16.1MB/s]                    \n",
      "2021-02-14 11:50:57 INFO: Downloading default packages for language: en (English)...\n",
      "2021-02-14 11:51:00 INFO: File exists: /home/neon/stanza_resources/en/default.zip.\n",
      "2021-02-14 11:51:04 INFO: Finished downloading models and saved to /home/neon/stanza_resources.\n"
     ]
    }
   ],
   "source": [
    "print('Downloading English model...')\n",
    "stanza.download('en') #Download pre-trained NLP english language model"
   ]
  },
  {
   "cell_type": "code",
   "execution_count": 3,
   "metadata": {
    "scrolled": true
   },
   "outputs": [
    {
     "name": "stderr",
     "output_type": "stream",
     "text": [
      "2021-02-14 11:51:04 INFO: Loading these models for language: en (English):\n",
      "=========================\n",
      "| Processor | Package   |\n",
      "-------------------------\n",
      "| tokenize  | combined  |\n",
      "| pos       | combined  |\n",
      "| lemma     | combined  |\n",
      "| depparse  | combined  |\n",
      "| sentiment | sstplus   |\n",
      "| ner       | ontonotes |\n",
      "=========================\n",
      "\n",
      "2021-02-14 11:51:04 INFO: Use device: cpu\n",
      "2021-02-14 11:51:04 INFO: Loading: tokenize\n",
      "2021-02-14 11:51:04 INFO: Loading: pos\n"
     ]
    },
    {
     "name": "stdout",
     "output_type": "stream",
     "text": [
      "Building an English pipeline...\n"
     ]
    },
    {
     "name": "stderr",
     "output_type": "stream",
     "text": [
      "2021-02-14 11:51:05 INFO: Loading: lemma\n",
      "2021-02-14 11:51:05 INFO: Loading: depparse\n",
      "2021-02-14 11:51:06 INFO: Loading: sentiment\n",
      "2021-02-14 11:51:07 INFO: Loading: ner\n",
      "2021-02-14 11:51:09 INFO: Done loading processors!\n"
     ]
    }
   ],
   "source": [
    "print('Building an English pipeline...')\n",
    "en_nlp = stanza.Pipeline('en') #Setup english language pipeline with default processors"
   ]
  },
  {
   "cell_type": "markdown",
   "metadata": {},
   "source": [
    "# Setup for Processing Stanza .to_dict() Objects into Pandas DataFrames"
   ]
  },
  {
   "cell_type": "code",
   "execution_count": 4,
   "metadata": {},
   "outputs": [],
   "source": [
    "class Section:\n",
    "    \n",
    "    def __init__(self, doc):\n",
    "        self.doc = doc #Processed Stanza document\n",
    "        self.section = doc.to_dict() #Converted stanza document (into python object as lists of dicts)\n",
    "        self.sentences = len(self.doc.sentences) #Number of sentences in section (i.e. section length)\n",
    "        self.indices = [num for num in range(0,self.sentences)] #List from zero to section length \n",
    "        \n",
    "    def get_hier(self, sent_no_str, sent_loc_ind):\n",
    "    \n",
    "        '''Input the index number of the sentence as a string, i.e. \"Sentence 1\",\n",
    "        then give the sentence index location in the list of dicts, and include name for new df'''\n",
    "\n",
    "        outside = [str(sent_no_str)]*len(self.section[sent_loc_ind]) #Outer index for multi-index\n",
    "        inside = list(range(len(self.section[sent_loc_ind]))) #Inner index for multi-index\n",
    "        hier_index = list(zip(outside,inside)) #Zip lists together to create multi-index\n",
    "        multi_index = pd.MultiIndex.from_tuples(hier_index) #multi-index\n",
    "    \n",
    "        df = pd.DataFrame(self.section[sent_loc_ind], index = multi_index) #Create pd.DataFrame of section with multi-index\n",
    "        df.drop('id',axis=1,inplace=True) #Drop redundant 'id' column\n",
    "    \n",
    "        return df #Return multi-indexxed pd.DataFrame object\n",
    "    \n",
    "    def frame_concat(self):\n",
    "        \n",
    "        '''Iterates through the converted stanza doc, and creates a df with the get_hier() function for each sentence's dictionary,\n",
    "        then concatenates the individual sentence df's together into a section df'''\n",
    "\n",
    "        df_list = [] #empty list to hold dataframes\n",
    "    \n",
    "        while len(df_list) < self.sentences: #Loop to continue iterating until last sentence\n",
    "    \n",
    "            for i in self.indices: #Index control\n",
    "    \n",
    "                sent_no = f'Sent {self.indices[i]}' #Fed into the multi-index in get_hier function\n",
    "                df_no = f'df {self.indices[i]}' #df name per sentence\n",
    "                df_no = self.get_hier(sent_no,self.indices[i]) #Call get_hier function and create a df per sentence\n",
    "                df_list.append(df_no) #Append the df to the list to be concatenated\n",
    "            \n",
    "        df = pd.concat(df_list) #Concatenate all df's into a section df\n",
    "    \n",
    "        return df #Return section df\n",
    "    \n",
    "    def sent_length(self): \n",
    "        \n",
    "        '''Returns a list of the length of each sentence in the section'''\n",
    "    \n",
    "        sent_lengths = [] #empty list to hold sentence lengths\n",
    "        for sent in self.section: #Iterate through converted stanza document, sentence by sentence\n",
    "            sent_lengths.append(len(sent)) #Add the length of each sentence to sent_lengths\n",
    "        return sent_lengths #Return list with all sentence lengths\n",
    "    \n",
    "    def get_sentiment(self):\n",
    "        \n",
    "        '''Use Stanza sentiment detection to create a df of sentiment values (0-2) for each sentence in a section'''\n",
    "\n",
    "        sentiment_count = {'text':[],'sentiment':[]} #Empty dict to hold the sentence and its sentiment\n",
    "    \n",
    "        for i in range(0,len(self.doc.sentences)): #Index control\n",
    "            sentiment_count['sentiment'].append(self.doc.sentences[i].sentiment) #Extract sentiment value from doc\n",
    "            sentiment_count['text'].append(self.doc.sentences[i].text) #Extract text string from doc\n",
    "        \n",
    "        sentiments = pd.DataFrame(sentiment_count) #Create pd.DataFrame from dict values holder\n",
    "    \n",
    "        return sentiments #Return said dataframe"
   ]
  },
  {
   "cell_type": "markdown",
   "metadata": {},
   "source": [
    "# Nahuatl Section 19"
   ]
  },
  {
   "cell_type": "code",
   "execution_count": 5,
   "metadata": {},
   "outputs": [],
   "source": [
    "with open('n19', 'r') as nineteen:\n",
    "    n19 = en_nlp(nineteen.read())\n",
    "    #n19d = n19.to_dict()"
   ]
  },
  {
   "cell_type": "code",
   "execution_count": 6,
   "metadata": {},
   "outputs": [],
   "source": [
    "n19s = Section(n19) #Create a section object from stanza doc"
   ]
  },
  {
   "cell_type": "code",
   "execution_count": 7,
   "metadata": {
    "scrolled": true
   },
   "outputs": [],
   "source": [
    "n19df = n19s.frame_concat() #Create a section df from section obj"
   ]
  },
  {
   "cell_type": "code",
   "execution_count": 8,
   "metadata": {},
   "outputs": [],
   "source": [
    "n19_sentimentdf = n19s.get_sentiment() #Create a sentiment df from section obj"
   ]
  },
  {
   "cell_type": "code",
   "execution_count": 9,
   "metadata": {},
   "outputs": [],
   "source": [
    "#Rinse.Repeat"
   ]
  },
  {
   "cell_type": "markdown",
   "metadata": {},
   "source": [
    "# Spanish Section 19"
   ]
  },
  {
   "cell_type": "code",
   "execution_count": 10,
   "metadata": {},
   "outputs": [],
   "source": [
    "with open('s19', 'r') as s19:\n",
    "    s19 = en_nlp(s19.read())\n",
    "    \n",
    "s19s = Section(s19)\n",
    "s19df = s19s.frame_concat()\n",
    "s19_sentimentdf = s19s.get_sentiment()"
   ]
  },
  {
   "cell_type": "markdown",
   "metadata": {},
   "source": [
    "# Nahuatl Section 20"
   ]
  },
  {
   "cell_type": "code",
   "execution_count": 11,
   "metadata": {},
   "outputs": [],
   "source": [
    "with open('n20', 'r') as n20:\n",
    "    n20 = en_nlp(n20.read())\n"
   ]
  },
  {
   "cell_type": "code",
   "execution_count": 12,
   "metadata": {},
   "outputs": [],
   "source": [
    "n20s = Section(n20)"
   ]
  },
  {
   "cell_type": "code",
   "execution_count": 13,
   "metadata": {
    "scrolled": false
   },
   "outputs": [],
   "source": [
    "n20df = n20s.frame_concat()\n",
    "n20_sentimentdf = n20s.get_sentiment()"
   ]
  },
  {
   "cell_type": "markdown",
   "metadata": {},
   "source": [
    "# Spanish Section 20"
   ]
  },
  {
   "cell_type": "code",
   "execution_count": 14,
   "metadata": {},
   "outputs": [],
   "source": [
    "with open('s20', 'r') as s20:\n",
    "    s20 = en_nlp(s20.read())\n",
    "    \n",
    "s20s = Section(s20)\n",
    "s20df = s20s.frame_concat()\n",
    "s20_sentimentdf = s20s.get_sentiment()"
   ]
  },
  {
   "cell_type": "markdown",
   "metadata": {},
   "source": [
    "# Nahuatl Section 21"
   ]
  },
  {
   "cell_type": "code",
   "execution_count": 15,
   "metadata": {},
   "outputs": [],
   "source": [
    "with open('n21', 'r') as n21:\n",
    "    n21 = en_nlp(n21.read())\n",
    "    \n",
    "n21s = Section(n21)\n",
    "n21df = n21s.frame_concat()\n",
    "n21_sentimentdf = n21s.get_sentiment()"
   ]
  },
  {
   "cell_type": "markdown",
   "metadata": {},
   "source": [
    "# Spanish Section 21"
   ]
  },
  {
   "cell_type": "code",
   "execution_count": 16,
   "metadata": {},
   "outputs": [],
   "source": [
    "with open('s21', 'r') as s21:\n",
    "    s21 = en_nlp(s21.read())\n",
    "    \n",
    "s21s = Section(s21)\n",
    "s21df = s21s.frame_concat()\n",
    "s21_sentimentdf = s21s.get_sentiment()"
   ]
  },
  {
   "cell_type": "code",
   "execution_count": 17,
   "metadata": {},
   "outputs": [],
   "source": [
    "#Master DFs for all sections by language\n",
    "spanishdf = pd.concat([s19df,s20df,s21df])\n",
    "nahuatldf = pd.concat([n19df,n20df,n21df])"
   ]
  },
  {
   "cell_type": "code",
   "execution_count": 18,
   "metadata": {
    "scrolled": true
   },
   "outputs": [
    {
     "data": {
      "text/plain": [
       "text        0\n",
       "lemma       0\n",
       "upos        0\n",
       "xpos        0\n",
       "feats     389\n",
       "head        0\n",
       "deprel      0\n",
       "misc        0\n",
       "ner         0\n",
       "dtype: int64"
      ]
     },
     "execution_count": 18,
     "metadata": {},
     "output_type": "execute_result"
    }
   ],
   "source": [
    "#Check null values\n",
    "spanishdf.isnull().sum() #Probably from punctation"
   ]
  },
  {
   "cell_type": "code",
   "execution_count": 19,
   "metadata": {
    "scrolled": false
   },
   "outputs": [
    {
     "data": {
      "text/plain": [
       "text         0\n",
       "lemma        0\n",
       "upos         0\n",
       "xpos         0\n",
       "feats     1008\n",
       "head         0\n",
       "deprel       0\n",
       "misc         0\n",
       "ner          0\n",
       "dtype: int64"
      ]
     },
     "execution_count": 19,
     "metadata": {},
     "output_type": "execute_result"
    }
   ],
   "source": [
    "nahuatldf.isnull().sum() #Again"
   ]
  },
  {
   "cell_type": "markdown",
   "metadata": {},
   "source": [
    "# EDA"
   ]
  },
  {
   "cell_type": "markdown",
   "metadata": {},
   "source": [
    "Sentence Length"
   ]
  },
  {
   "cell_type": "code",
   "execution_count": 55,
   "metadata": {},
   "outputs": [
    {
     "data": {
      "text/plain": [
       "31"
      ]
     },
     "execution_count": 55,
     "metadata": {},
     "output_type": "execute_result"
    }
   ],
   "source": [
    "n20s.sentences"
   ]
  },
  {
   "cell_type": "code",
   "execution_count": 57,
   "metadata": {},
   "outputs": [
    {
     "data": {
      "text/plain": [
       "20.193548387096776"
      ]
     },
     "execution_count": 57,
     "metadata": {},
     "output_type": "execute_result"
    }
   ],
   "source": [
    "n20_ave"
   ]
  },
  {
   "cell_type": "code",
   "execution_count": 58,
   "metadata": {
    "scrolled": true
   },
   "outputs": [
    {
     "data": {
      "text/plain": [
       "14"
      ]
     },
     "execution_count": 58,
     "metadata": {},
     "output_type": "execute_result"
    }
   ],
   "source": [
    "s20s.sentences"
   ]
  },
  {
   "cell_type": "code",
   "execution_count": 59,
   "metadata": {},
   "outputs": [
    {
     "data": {
      "text/plain": [
       "16.785714285714285"
      ]
     },
     "execution_count": 59,
     "metadata": {},
     "output_type": "execute_result"
    }
   ],
   "source": [
    "s20_ave"
   ]
  },
  {
   "cell_type": "code",
   "execution_count": 20,
   "metadata": {},
   "outputs": [],
   "source": [
    "#Create a list of sentence lengths for n19\n",
    "n19_senlen = n19s.sent_length()\n",
    "#ave\n",
    "n19_ave = sum(n19_senlen)/len(n19_senlen)\n",
    "\n",
    "#Create a list of sentence lengths for n20\n",
    "n20_senlen = n20s.sent_length()\n",
    "#ave\n",
    "n20_ave = sum(n20_senlen)/len(n20_senlen)\n",
    "\n",
    "#Create a list of sentence lengths for n21\n",
    "n21_senlen = n21s.sent_length()\n",
    "#ave\n",
    "n21_ave = sum(n21_senlen)/len(n21_senlen)\n",
    "\n",
    "n_total = n19_senlen + n20_senlen + n21_senlen\n",
    "\n",
    "#Average sentence length for nahuatl sections\n",
    "n_ave = sum(n_total)/len(n_total)"
   ]
  },
  {
   "cell_type": "code",
   "execution_count": 21,
   "metadata": {},
   "outputs": [],
   "source": [
    "#Create a list of sentence lengths for s19\n",
    "s19_senlen = s19s.sent_length()\n",
    "#ave\n",
    "s19_ave = sum(s19_senlen)/len(s19_senlen)\n",
    "\n",
    "#Create a list of sentence lengths for s20\n",
    "s20_senlen = s20s.sent_length()\n",
    "#ave\n",
    "s20_ave = sum(s20_senlen)/len(s20_senlen)\n",
    "\n",
    "#Create a list of sentence lengths for s21\n",
    "s21_senlen = s21s.sent_length()\n",
    "#ave\n",
    "s21_ave = sum(s21_senlen)/len(s21_senlen)\n",
    "\n",
    "s_total = s19_senlen + s20_senlen + s21_senlen\n",
    "\n",
    "\n",
    "\n",
    "#Average sentence length for spanish sections\n",
    "s_ave = sum(s_total)/len(s_total)"
   ]
  },
  {
   "cell_type": "code",
   "execution_count": 22,
   "metadata": {},
   "outputs": [
    {
     "data": {
      "image/png": "[encoded data removed]",
      "text/plain": [
       "<Figure size 720x576 with 1 Axes>"
      ]
     },
     "metadata": {
      "needs_background": "light"
     },
     "output_type": "display_data"
    }
   ],
   "source": [
    "sen_dic = {'n19':n19_ave, #Dictionary of individual section sentence length averages\n",
    "      'n20':n20_ave,\n",
    "      'n21':n21_ave,\n",
    "      'n ave': n_ave,\n",
    "       's19':s19_ave,\n",
    "      's20':s20_ave,\n",
    "      's21':s21_ave,\n",
    "      's ave': s_ave\n",
    "      }\n",
    "senlens = pd.Series(sen_dic) #Convert dict into pd.Series to plot it\n",
    "\n",
    "senlens.plot(kind='bar',figsize=(10,8),title='Average Sentence lengths between Nahuatl and Spanish Texts', colormap='viridis')\n",
    "plt.xlabel('Section or Translation Average')\n",
    "plt.ylabel('Average Sentence Length')\n",
    "plt.savefig('sentence_lengths.png',transparent=True)"
   ]
  },
  {
   "cell_type": "code",
   "execution_count": 23,
   "metadata": {},
   "outputs": [],
   "source": [
    "#Nahuatl UPOS usage as %\n",
    "n19_pos = 100 * n19df['upos'].value_counts()/n19df['upos'].value_counts().sum()\n",
    "n20_pos = 100 * n20df['upos'].value_counts()/n20df['upos'].value_counts().sum()\n",
    "n21_pos = 100 * n21df['upos'].value_counts()/n21df['upos'].value_counts().sum()\n",
    "\n",
    "#Spanish UPOS usage as %\n",
    "s19_pos = 100 * s19df['upos'].value_counts()/s19df['upos'].value_counts().sum()\n",
    "s20_pos = 100 * s20df['upos'].value_counts()/s20df['upos'].value_counts().sum()\n",
    "s21_pos = 100 * s21df['upos'].value_counts()/s21df['upos'].value_counts().sum()\n",
    "\n",
    "supos_ave = 100 * spanishdf['upos'].value_counts()/spanishdf['upos'].value_counts().sum()\n",
    "nupos_ave = 100 * nahuatldf['upos'].value_counts()/nahuatldf['upos'].value_counts().sum()\n",
    "\n",
    "#Dictionary out of percentages of used UPOS in each section\n",
    "pos_dic = {'n_ave':nupos_ave,\n",
    "           'n19':n19_pos,\n",
    "           'n20':n20_pos,\n",
    "           'n21':n21_pos,\n",
    "           's_ave':supos_ave,\n",
    "           's19':s19_pos,\n",
    "           's20':s20_pos,\n",
    "           's21':s21_pos} "
   ]
  },
  {
   "cell_type": "code",
   "execution_count": 24,
   "metadata": {},
   "outputs": [
    {
     "data": {
      "text/html": [
       "<div>\n",
       "<style scoped>\n",
       "    .dataframe tbody tr th:only-of-type {\n",
       "        vertical-align: middle;\n",
       "    }\n",
       "\n",
       "    .dataframe tbody tr th {\n",
       "        vertical-align: top;\n",
       "    }\n",
       "\n",
       "    .dataframe thead th {\n",
       "        text-align: right;\n",
       "    }\n",
       "</style>\n",
       "<table border=\"1\" class=\"dataframe\">\n",
       "  <thead>\n",
       "    <tr style=\"text-align: right;\">\n",
       "      <th></th>\n",
       "      <th>n_ave</th>\n",
       "      <th>n19</th>\n",
       "      <th>n20</th>\n",
       "      <th>n21</th>\n",
       "      <th>s_ave</th>\n",
       "      <th>s19</th>\n",
       "      <th>s20</th>\n",
       "      <th>s21</th>\n",
       "    </tr>\n",
       "  </thead>\n",
       "  <tbody>\n",
       "    <tr>\n",
       "      <th>ADJ</th>\n",
       "      <td>3.073119</td>\n",
       "      <td>3.035413</td>\n",
       "      <td>2.875399</td>\n",
       "      <td>3.238469</td>\n",
       "      <td>3.751144</td>\n",
       "      <td>4.032258</td>\n",
       "      <td>3.829787</td>\n",
       "      <td>3.606557</td>\n",
       "    </tr>\n",
       "    <tr>\n",
       "      <th>ADP</th>\n",
       "      <td>10.349700</td>\n",
       "      <td>12.478921</td>\n",
       "      <td>9.584665</td>\n",
       "      <td>8.341511</td>\n",
       "      <td>11.619396</td>\n",
       "      <td>13.306452</td>\n",
       "      <td>14.468085</td>\n",
       "      <td>9.836066</td>\n",
       "    </tr>\n",
       "    <tr>\n",
       "      <th>ADV</th>\n",
       "      <td>3.991522</td>\n",
       "      <td>3.035413</td>\n",
       "      <td>4.632588</td>\n",
       "      <td>4.710500</td>\n",
       "      <td>4.117109</td>\n",
       "      <td>4.435484</td>\n",
       "      <td>0.851064</td>\n",
       "      <td>5.245902</td>\n",
       "    </tr>\n",
       "    <tr>\n",
       "      <th>AUX</th>\n",
       "      <td>5.192511</td>\n",
       "      <td>4.300169</td>\n",
       "      <td>4.472843</td>\n",
       "      <td>6.673209</td>\n",
       "      <td>4.025618</td>\n",
       "      <td>3.225806</td>\n",
       "      <td>3.404255</td>\n",
       "      <td>4.590164</td>\n",
       "    </tr>\n",
       "    <tr>\n",
       "      <th>CCONJ</th>\n",
       "      <td>4.768633</td>\n",
       "      <td>4.300169</td>\n",
       "      <td>4.952077</td>\n",
       "      <td>5.201178</td>\n",
       "      <td>3.751144</td>\n",
       "      <td>0.403226</td>\n",
       "      <td>2.978723</td>\n",
       "      <td>5.409836</td>\n",
       "    </tr>\n",
       "    <tr>\n",
       "      <th>DET</th>\n",
       "      <td>7.983045</td>\n",
       "      <td>8.516020</td>\n",
       "      <td>9.424920</td>\n",
       "      <td>6.476938</td>\n",
       "      <td>11.070448</td>\n",
       "      <td>12.903226</td>\n",
       "      <td>13.191489</td>\n",
       "      <td>9.508197</td>\n",
       "    </tr>\n",
       "    <tr>\n",
       "      <th>NOUN</th>\n",
       "      <td>16.001413</td>\n",
       "      <td>20.067454</td>\n",
       "      <td>15.335463</td>\n",
       "      <td>11.678116</td>\n",
       "      <td>13.083257</td>\n",
       "      <td>12.903226</td>\n",
       "      <td>14.893617</td>\n",
       "      <td>12.459016</td>\n",
       "    </tr>\n",
       "    <tr>\n",
       "      <th>NUM</th>\n",
       "      <td>0.565171</td>\n",
       "      <td>0.590219</td>\n",
       "      <td>NaN</td>\n",
       "      <td>0.883219</td>\n",
       "      <td>0.640439</td>\n",
       "      <td>NaN</td>\n",
       "      <td>0.425532</td>\n",
       "      <td>0.983607</td>\n",
       "    </tr>\n",
       "    <tr>\n",
       "      <th>PART</th>\n",
       "      <td>1.695514</td>\n",
       "      <td>1.433390</td>\n",
       "      <td>1.437700</td>\n",
       "      <td>2.158979</td>\n",
       "      <td>2.195791</td>\n",
       "      <td>3.225806</td>\n",
       "      <td>1.702128</td>\n",
       "      <td>1.967213</td>\n",
       "    </tr>\n",
       "    <tr>\n",
       "      <th>PRON</th>\n",
       "      <td>12.787001</td>\n",
       "      <td>11.973019</td>\n",
       "      <td>11.341853</td>\n",
       "      <td>14.622179</td>\n",
       "      <td>10.064044</td>\n",
       "      <td>7.661290</td>\n",
       "      <td>9.787234</td>\n",
       "      <td>11.147541</td>\n",
       "    </tr>\n",
       "    <tr>\n",
       "      <th>PROPN</th>\n",
       "      <td>2.260685</td>\n",
       "      <td>1.686341</td>\n",
       "      <td>1.916933</td>\n",
       "      <td>3.140334</td>\n",
       "      <td>6.861848</td>\n",
       "      <td>11.693548</td>\n",
       "      <td>3.404255</td>\n",
       "      <td>6.229508</td>\n",
       "    </tr>\n",
       "    <tr>\n",
       "      <th>PUNCT</th>\n",
       "      <td>13.599435</td>\n",
       "      <td>13.069140</td>\n",
       "      <td>14.376997</td>\n",
       "      <td>13.738960</td>\n",
       "      <td>11.070448</td>\n",
       "      <td>11.290323</td>\n",
       "      <td>12.340426</td>\n",
       "      <td>10.491803</td>\n",
       "    </tr>\n",
       "    <tr>\n",
       "      <th>SCONJ</th>\n",
       "      <td>2.437301</td>\n",
       "      <td>1.939292</td>\n",
       "      <td>2.555911</td>\n",
       "      <td>2.944063</td>\n",
       "      <td>3.934126</td>\n",
       "      <td>3.629032</td>\n",
       "      <td>3.829787</td>\n",
       "      <td>4.098361</td>\n",
       "    </tr>\n",
       "    <tr>\n",
       "      <th>VERB</th>\n",
       "      <td>15.294949</td>\n",
       "      <td>13.575042</td>\n",
       "      <td>17.092652</td>\n",
       "      <td>16.192345</td>\n",
       "      <td>13.815188</td>\n",
       "      <td>11.290323</td>\n",
       "      <td>14.893617</td>\n",
       "      <td>14.426230</td>\n",
       "    </tr>\n",
       "  </tbody>\n",
       "</table>\n",
       "</div>"
      ],
      "text/plain": [
       "           n_ave        n19        n20        n21      s_ave        s19  \\\n",
       "ADJ     3.073119   3.035413   2.875399   3.238469   3.751144   4.032258   \n",
       "ADP    10.349700  12.478921   9.584665   8.341511  11.619396  13.306452   \n",
       "ADV     3.991522   3.035413   4.632588   4.710500   4.117109   4.435484   \n",
       "AUX     5.192511   4.300169   4.472843   6.673209   4.025618   3.225806   \n",
       "CCONJ   4.768633   4.300169   4.952077   5.201178   3.751144   0.403226   \n",
       "DET     7.983045   8.516020   9.424920   6.476938  11.070448  12.903226   \n",
       "NOUN   16.001413  20.067454  15.335463  11.678116  13.083257  12.903226   \n",
       "NUM     0.565171   0.590219        NaN   0.883219   0.640439        NaN   \n",
       "PART    1.695514   1.433390   1.437700   2.158979   2.195791   3.225806   \n",
       "PRON   12.787001  11.973019  11.341853  14.622179  10.064044   7.661290   \n",
       "PROPN   2.260685   1.686341   1.916933   3.140334   6.861848  11.693548   \n",
       "PUNCT  13.599435  13.069140  14.376997  13.738960  11.070448  11.290323   \n",
       "SCONJ   2.437301   1.939292   2.555911   2.944063   3.934126   3.629032   \n",
       "VERB   15.294949  13.575042  17.092652  16.192345  13.815188  11.290323   \n",
       "\n",
       "             s20        s21  \n",
       "ADJ     3.829787   3.606557  \n",
       "ADP    14.468085   9.836066  \n",
       "ADV     0.851064   5.245902  \n",
       "AUX     3.404255   4.590164  \n",
       "CCONJ   2.978723   5.409836  \n",
       "DET    13.191489   9.508197  \n",
       "NOUN   14.893617  12.459016  \n",
       "NUM     0.425532   0.983607  \n",
       "PART    1.702128   1.967213  \n",
       "PRON    9.787234  11.147541  \n",
       "PROPN   3.404255   6.229508  \n",
       "PUNCT  12.340426  10.491803  \n",
       "SCONJ   3.829787   4.098361  \n",
       "VERB   14.893617  14.426230  "
      ]
     },
     "execution_count": 24,
     "metadata": {},
     "output_type": "execute_result"
    }
   ],
   "source": [
    "posdf = pd.DataFrame(pos_dic) #Dataframe of UPOS dic showing % of UPOS used\n",
    "posdf"
   ]
  },
  {
   "cell_type": "code",
   "execution_count": 25,
   "metadata": {},
   "outputs": [],
   "source": [
    "#Barplot of UPOS usage as %\n",
    "#posdf.plot(kind='bar',figsize=(15,12),title='Use of UPOS by translation and section as a %')"
   ]
  },
  {
   "cell_type": "code",
   "execution_count": 26,
   "metadata": {
    "scrolled": false
   },
   "outputs": [
    {
     "data": {
      "image/png": "[encoded data removed]",
      "text/plain": [
       "<Figure size 720x576 with 2 Axes>"
      ]
     },
     "metadata": {
      "needs_background": "light"
     },
     "output_type": "display_data"
    }
   ],
   "source": [
    "#Seaborn heatmap of upos usage as a % by section, and ave\n",
    "plt.figure(figsize=(10,8))\n",
    "plt.title('UPOS usage as a % by Section, Including Average by Translation')\n",
    "sns.heatmap(posdf.dropna(), annot=True)\n",
    "plt.savefig('upos.png')"
   ]
  },
  {
   "cell_type": "markdown",
   "metadata": {},
   "source": [
    "# Word Choice"
   ]
  },
  {
   "cell_type": "code",
   "execution_count": 27,
   "metadata": {
    "scrolled": false
   },
   "outputs": [],
   "source": [
    "#nahuatldf['text'].value_counts().head(50) #Mexica 14, Spaniards 13, Warriors 9"
   ]
  },
  {
   "cell_type": "code",
   "execution_count": 28,
   "metadata": {},
   "outputs": [],
   "source": [
    "#spanishdf['text'].value_counts().head(50) #Spaniards 16, Moteccoma 12, Mexica 6, Indians 6"
   ]
  },
  {
   "cell_type": "code",
   "execution_count": 29,
   "metadata": {},
   "outputs": [
    {
     "name": "stderr",
     "output_type": "stream",
     "text": [
      "[nltk_data] Downloading package stopwords to /home/neon/nltk_data...\n",
      "[nltk_data]   Package stopwords is already up-to-date!\n"
     ]
    },
    {
     "data": {
      "text/plain": [
       "True"
      ]
     },
     "execution_count": 29,
     "metadata": {},
     "output_type": "execute_result"
    }
   ],
   "source": [
    "import nltk #NLP Tool\n",
    "nltk.download('stopwords') #Use NLTK stopwords list"
   ]
  },
  {
   "cell_type": "code",
   "execution_count": 30,
   "metadata": {},
   "outputs": [],
   "source": [
    "from nltk.corpus import stopwords\n",
    "stopwords = stopwords.words('english')"
   ]
  },
  {
   "cell_type": "code",
   "execution_count": 31,
   "metadata": {},
   "outputs": [],
   "source": [
    "share_words = [] #Empty list to hold shared words\n",
    "for key in dict(nahuatldf['text'].value_counts()): #Iterate through words in nahuatl text\n",
    "    if key.lower() not in stopwords and len(key.lower()) > 5: #If the word isn't stopwords or < 5\n",
    "        if key.lower() in dict(spanishdf['text'].value_counts()): #If the word meets above criteria + in spanish text\n",
    "            share_words.append(key.lower()) #THEN, add the word to share_words"
   ]
  },
  {
   "cell_type": "code",
   "execution_count": 32,
   "metadata": {
    "scrolled": true
   },
   "outputs": [
    {
     "name": "stdout",
     "output_type": "stream",
     "text": [
      "painted      11\n",
      "saying        8\n",
      "people        8\n",
      "arrows        8\n",
      "killed        7\n",
      "someone       7\n",
      "places        6\n",
      "festivity     6\n",
      "everyone      6\n",
      "amaranth      5\n",
      "Name: text, dtype: int64\n",
      "killed        7\n",
      "festivity     5\n",
      "saying        4\n",
      "outside       3\n",
      "leaders       3\n",
      "surrounded    3\n",
      "palace        3\n",
      "ordered       2\n",
      "performing    2\n",
      "secretly      2\n",
      "Name: text, dtype: int64\n"
     ]
    }
   ],
   "source": [
    "#Words the nahuatldf shares with spanish df and their frequency\n",
    "print(nahuatldf[nahuatldf['text'].apply(lambda word: word in share_words) == True]['text'].value_counts().head(10))\n",
    "print(spanishdf[spanishdf['text'].apply(lambda word: word in share_words) == True]['text'].value_counts().head(10))"
   ]
  },
  {
   "cell_type": "code",
   "execution_count": 33,
   "metadata": {
    "scrolled": false
   },
   "outputs": [
    {
     "data": {
      "text/html": [
       "<div>\n",
       "<style scoped>\n",
       "    .dataframe tbody tr th:only-of-type {\n",
       "        vertical-align: middle;\n",
       "    }\n",
       "\n",
       "    .dataframe tbody tr th {\n",
       "        vertical-align: top;\n",
       "    }\n",
       "\n",
       "    .dataframe thead th {\n",
       "        text-align: right;\n",
       "    }\n",
       "</style>\n",
       "<table border=\"1\" class=\"dataframe\">\n",
       "  <thead>\n",
       "    <tr style=\"text-align: right;\">\n",
       "      <th></th>\n",
       "      <th>Nahuatl</th>\n",
       "      <th>Spanish</th>\n",
       "    </tr>\n",
       "  </thead>\n",
       "  <tbody>\n",
       "    <tr>\n",
       "      <th>arrows</th>\n",
       "      <td>8.0</td>\n",
       "      <td>2.0</td>\n",
       "    </tr>\n",
       "    <tr>\n",
       "      <th>festivity</th>\n",
       "      <td>6.0</td>\n",
       "      <td>5.0</td>\n",
       "    </tr>\n",
       "    <tr>\n",
       "      <th>killed</th>\n",
       "      <td>7.0</td>\n",
       "      <td>7.0</td>\n",
       "    </tr>\n",
       "    <tr>\n",
       "      <th>leaders</th>\n",
       "      <td>3.0</td>\n",
       "      <td>3.0</td>\n",
       "    </tr>\n",
       "    <tr>\n",
       "      <th>palace</th>\n",
       "      <td>2.0</td>\n",
       "      <td>3.0</td>\n",
       "    </tr>\n",
       "    <tr>\n",
       "      <th>people</th>\n",
       "      <td>8.0</td>\n",
       "      <td>2.0</td>\n",
       "    </tr>\n",
       "    <tr>\n",
       "      <th>saying</th>\n",
       "      <td>8.0</td>\n",
       "      <td>4.0</td>\n",
       "    </tr>\n",
       "    <tr>\n",
       "      <th>secretly</th>\n",
       "      <td>2.0</td>\n",
       "      <td>2.0</td>\n",
       "    </tr>\n",
       "  </tbody>\n",
       "</table>\n",
       "</div>"
      ],
      "text/plain": [
       "           Nahuatl  Spanish\n",
       "arrows         8.0      2.0\n",
       "festivity      6.0      5.0\n",
       "killed         7.0      7.0\n",
       "leaders        3.0      3.0\n",
       "palace         2.0      3.0\n",
       "people         8.0      2.0\n",
       "saying         8.0      4.0\n",
       "secretly       2.0      2.0"
      ]
     },
     "execution_count": 33,
     "metadata": {},
     "output_type": "execute_result"
    }
   ],
   "source": [
    "words_dic = {\"Nahuatl\":nahuatldf[nahuatldf['text'].apply(lambda word: word in share_words) == True]['text'].value_counts(),\n",
    "\"Spanish\":spanishdf[spanishdf['text'].apply(lambda word: word in share_words) == True]['text'].value_counts()}\n",
    "\n",
    "sharewordsdf = pd.DataFrame(words_dic)\n",
    "sharewordsdf['n'] = sharewordsdf['Nahuatl'].apply(lambda x: x > 1)\n",
    "sharewordsdf['s'] = sharewordsdf['Spanish'].apply(lambda x: x > 1)\n",
    "\n",
    "sharewordsdf['Nahuatl'] = sharewordsdf[sharewordsdf['n']==True]['Nahuatl']\n",
    "sharewordsdf['Spanish'] = sharewordsdf[sharewordsdf['s']==True]['Spanish']\n",
    "\n",
    "sharewordsdf.drop(['n','s'],axis=1,inplace=True)\n",
    "sharewordsdf.dropna(inplace=True)\n",
    "sharewordsdf"
   ]
  },
  {
   "cell_type": "code",
   "execution_count": 34,
   "metadata": {},
   "outputs": [],
   "source": [
    "#Dictionary holding shared words and their usage frequency as %\n",
    "word_perc_dic = {\"Nahuatl\":100 * sharewordsdf['Nahuatl'] / sharewordsdf['Nahuatl'].sum(),\n",
    "                 \"Spanish\":100 * sharewordsdf['Spanish'] / sharewordsdf['Spanish'].sum()}"
   ]
  },
  {
   "cell_type": "code",
   "execution_count": 35,
   "metadata": {
    "scrolled": true
   },
   "outputs": [
    {
     "data": {
      "image/png": "[encoded data removed]",
      "text/plain": [
       "<Figure size 1080x864 with 1 Axes>"
      ]
     },
     "metadata": {
      "needs_background": "light"
     },
     "output_type": "display_data"
    }
   ],
   "source": [
    "#Create dataframe and plot shared words and their usage frequency\n",
    "pd.DataFrame(word_perc_dic).plot(kind='bar',figsize=(15,12),title='Frequency of Shared Words where freq > 1')\n",
    "plt.xlabel('Shared Word')\n",
    "plt.ylabel('Frequency of Word Use (%)')\n",
    "plt.savefig('share_words.png',transparent=True)"
   ]
  },
  {
   "cell_type": "code",
   "execution_count": null,
   "metadata": {},
   "outputs": [],
   "source": []
  },
  {
   "cell_type": "code",
   "execution_count": 129,
   "metadata": {},
   "outputs": [
    {
     "data": {
      "text/plain": [
       "Mood=Ind|Tense=Past|VerbForm=Fin                          15.816327\n",
       "Number=Sing                                               15.051020\n",
       "Number=Plur                                               14.030612\n",
       "Definite=Def|PronType=Art                                  9.183673\n",
       "Case=Nom|Number=Plur|Person=3|PronType=Prs                 6.122449\n",
       "Degree=Pos                                                 4.591837\n",
       "Tense=Past|VerbForm=Part                                   3.826531\n",
       "VerbForm=Inf                                               3.316327\n",
       "VerbForm=Ger                                               3.061224\n",
       "PronType=Int                                               2.551020\n",
       "Tense=Pres|VerbForm=Part                                   2.295918\n",
       "Mood=Ind|Number=Sing|Person=3|Tense=Past|VerbForm=Fin      2.295918\n",
       "PronType=Dem                                               2.040816\n",
       "PronType=Rel                                               1.785714\n",
       "Number=Plur|Person=3|Poss=Yes|PronType=Prs                 1.530612\n",
       "Tense=Past|VerbForm=Part|Voice=Pass                        1.530612\n",
       "Gender=Masc|Number=Sing|Person=3|Poss=Yes|PronType=Prs     1.530612\n",
       "Number=Plur|PronType=Dem                                   1.275510\n",
       "Case=Acc|Number=Plur|Person=3|PronType=Prs                 1.020408\n",
       "Case=Nom|Gender=Neut|Number=Sing|Person=3|PronType=Prs     1.020408\n",
       "Definite=Ind|PronType=Art                                  1.020408\n",
       "Mood=Ind|Tense=Pres|VerbForm=Fin                           1.020408\n",
       "VerbForm=Fin                                               1.020408\n",
       "Case=Acc|Gender=Masc|Number=Sing|Person=3|PronType=Prs     0.765306\n",
       "Case=Acc|Gender=Neut|Number=Sing|Person=3|PronType=Prs     0.510204\n",
       "Poss=Yes|PronType=Int                                      0.255102\n",
       "Case=Acc|Number=Plur|Person=3|PronType=Prs|Reflex=Yes      0.255102\n",
       "Case=Nom|Gender=Masc|Number=Sing|Person=3|PronType=Prs     0.255102\n",
       "Mood=Ind|Number=Sing|Person=3|Tense=Pres|VerbForm=Fin      0.255102\n",
       "Degree=Cmp                                                 0.255102\n",
       "Abbr=Yes                                                   0.255102\n",
       "Number=Sing|PronType=Dem                                   0.255102\n",
       "Name: feats, dtype: float64"
      ]
     },
     "execution_count": 129,
     "metadata": {},
     "output_type": "execute_result"
    }
   ],
   "source": [
    "#for feat in n20df['feats']:\n",
    "#    if 'tense' in str(feat).lower():\n",
    "#        print(feat.split('|')\n",
    "(100 * n20df['feats'].value_counts() / n20df['feats'].value_counts().sum())"
   ]
  },
  {
   "cell_type": "code",
   "execution_count": 132,
   "metadata": {},
   "outputs": [
    {
     "data": {
      "image/png": "[encoded data removed]",
      "text/plain": [
       "<Figure size 864x720 with 1 Axes>"
      ]
     },
     "metadata": {
      "needs_background": "light"
     },
     "output_type": "display_data"
    }
   ],
   "source": [
    "feat_dic= {'Nahuatl feats':(100 * n20df['feats'].value_counts() / n20df['feats'].value_counts().sum()),\n",
    "           'Spanish feats':(100 * s20df['feats'].value_counts() / s20df['feats'].value_counts().sum())}\n",
    "pd.DataFrame(feat_dic).plot(kind='barh',figsize=(12,10))\n",
    "plt.title('Feature frequency as a Percentage')\n",
    "plt.xlabel('Frequency Percentage')\n",
    "plt.savefig('feat_fre.png',transparent=True)"
   ]
  },
  {
   "cell_type": "code",
   "execution_count": null,
   "metadata": {},
   "outputs": [],
   "source": []
  },
  {
   "cell_type": "code",
   "execution_count": null,
   "metadata": {},
   "outputs": [],
   "source": []
  },
  {
   "cell_type": "code",
   "execution_count": null,
   "metadata": {},
   "outputs": [],
   "source": []
  },
  {
   "cell_type": "code",
   "execution_count": null,
   "metadata": {},
   "outputs": [],
   "source": []
  },
  {
   "cell_type": "markdown",
   "metadata": {},
   "source": [
    "# Sentiment Analysis"
   ]
  },
  {
   "cell_type": "code",
   "execution_count": 64,
   "metadata": {},
   "outputs": [
    {
     "data": {
      "text/plain": [
       "1    61.290323\n",
       "0    35.483871\n",
       "2     3.225806\n",
       "Name: sentiment, dtype: float64"
      ]
     },
     "execution_count": 64,
     "metadata": {},
     "output_type": "execute_result"
    }
   ],
   "source": [
    "#Perc of sentiments in n20\n",
    "100 * n20_sentimentdf['sentiment'].value_counts() / n20_sentimentdf['sentiment'].value_counts().sum()"
   ]
  },
  {
   "cell_type": "code",
   "execution_count": 65,
   "metadata": {},
   "outputs": [
    {
     "data": {
      "text/plain": [
       "0    42.857143\n",
       "1    35.714286\n",
       "2    21.428571\n",
       "Name: sentiment, dtype: float64"
      ]
     },
     "execution_count": 65,
     "metadata": {},
     "output_type": "execute_result"
    }
   ],
   "source": [
    "#Perc of sentiments in s20\n",
    "100 * s20_sentimentdf['sentiment'].value_counts() / s20_sentimentdf['sentiment'].value_counts().sum()"
   ]
  },
  {
   "cell_type": "code",
   "execution_count": 71,
   "metadata": {},
   "outputs": [
    {
     "data": {
      "image/png": "[encoded data removed]",
      "text/plain": [
       "<Figure size 432x288 with 1 Axes>"
      ]
     },
     "metadata": {
      "needs_background": "light"
     },
     "output_type": "display_data"
    }
   ],
   "source": [
    "n20_sentiments = {'Nahuatl Sentiments in n20':100 * n20_sentimentdf['sentiment'].value_counts() / n20_sentimentdf['sentiment'].value_counts().sum(),\n",
    "                  'Spanish Sentiments in s20':100 * s20_sentimentdf['sentiment'].value_counts() / s20_sentimentdf['sentiment'].value_counts().sum()}\n",
    "pd.DataFrame(mydic,index=[0,1,2]).plot(kind='barh')\n",
    "plt.title('Sentiment Analysis in Chapter Twenty')\n",
    "plt.xlabel('Percentage of Sentences')\n",
    "plt.ylabel('Sentiment (0,1,2 = Neg, Neutral, Pos)')\n",
    "plt.savefig('ch20_sentiments.png',transparent=True)"
   ]
  },
  {
   "cell_type": "code",
   "execution_count": 36,
   "metadata": {},
   "outputs": [],
   "source": [
    "n_sentimentdf = pd.concat([n19_sentimentdf,  #Master df of nahuatl sentence sentiments\n",
    "                           n20_sentimentdf,\n",
    "                           n21_sentimentdf])\n",
    "n_sentimentdf['translation'] = 'Nahuatl' #Add in column to identify them later"
   ]
  },
  {
   "cell_type": "code",
   "execution_count": 37,
   "metadata": {},
   "outputs": [],
   "source": [
    "s_sentimentdf = pd.concat([s19_sentimentdf, #Master df of spanish sentence sentiments\n",
    "                           s20_sentimentdf,\n",
    "                           s21_sentimentdf])\n",
    "s_sentimentdf['translation'] = 'Spanish' #Add in column to identify them later"
   ]
  },
  {
   "cell_type": "code",
   "execution_count": 72,
   "metadata": {},
   "outputs": [],
   "source": [
    "sentiments = pd.concat([n_sentimentdf,s_sentimentdf]) #Master sentiment df"
   ]
  },
  {
   "cell_type": "code",
   "execution_count": 73,
   "metadata": {},
   "outputs": [],
   "source": [
    "#Dic of master sentiment df AS PERCENTAGE --> master df for all sentiments, with text translation id\n",
    "mydic = {'Nahuatl Sentiments':100 * sentiments[sentiments['translation']=='Nahuatl']['sentiment'].value_counts() / sentiments[sentiments['translation']=='Nahuatl']['sentiment'].value_counts().sum(),\n",
    "         'Spanish Sentiments':100 * sentiments[sentiments['translation']=='Spanish']['sentiment'].value_counts() / sentiments[sentiments['translation']=='Spanish']['sentiment'].value_counts().sum()}\n",
    "perc_sentiments = pd.DataFrame(mydic,index=[0,1,2])"
   ]
  },
  {
   "cell_type": "code",
   "execution_count": 74,
   "metadata": {
    "scrolled": false
   },
   "outputs": [
    {
     "data": {
      "image/png": "[encoded data removed]",
      "text/plain": [
       "<Figure size 432x288 with 1 Axes>"
      ]
     },
     "metadata": {
      "needs_background": "light"
     },
     "output_type": "display_data"
    }
   ],
   "source": [
    "#Plot of sentiments by translation per sentence\n",
    "perc_sentiments.plot(kind='barh')\n",
    "plt.title('Sentence Sentiments as a Percentage from Negative to Positive')\n",
    "plt.xlabel('Percentage of Sentences')\n",
    "plt.ylabel('Sentiment (0 = Neg, 1 = Neutral, 2 = Pos)')\n",
    "plt.savefig('perc_sentiments.png',transparent=True)"
   ]
  },
  {
   "cell_type": "code",
   "execution_count": 41,
   "metadata": {},
   "outputs": [
    {
     "data": {
      "text/html": [
       "<div>\n",
       "<style scoped>\n",
       "    .dataframe tbody tr th:only-of-type {\n",
       "        vertical-align: middle;\n",
       "    }\n",
       "\n",
       "    .dataframe tbody tr th {\n",
       "        vertical-align: top;\n",
       "    }\n",
       "\n",
       "    .dataframe thead th {\n",
       "        text-align: right;\n",
       "    }\n",
       "</style>\n",
       "<table border=\"1\" class=\"dataframe\">\n",
       "  <thead>\n",
       "    <tr style=\"text-align: right;\">\n",
       "      <th></th>\n",
       "      <th>Nahuatl Sentiments</th>\n",
       "      <th>Spanish Sentiments</th>\n",
       "    </tr>\n",
       "  </thead>\n",
       "  <tbody>\n",
       "    <tr>\n",
       "      <th>0</th>\n",
       "      <td>31.746032</td>\n",
       "      <td>41.860465</td>\n",
       "    </tr>\n",
       "    <tr>\n",
       "      <th>1</th>\n",
       "      <td>62.698413</td>\n",
       "      <td>44.186047</td>\n",
       "    </tr>\n",
       "    <tr>\n",
       "      <th>2</th>\n",
       "      <td>5.555556</td>\n",
       "      <td>13.953488</td>\n",
       "    </tr>\n",
       "  </tbody>\n",
       "</table>\n",
       "</div>"
      ],
      "text/plain": [
       "   Nahuatl Sentiments  Spanish Sentiments\n",
       "0           31.746032           41.860465\n",
       "1           62.698413           44.186047\n",
       "2            5.555556           13.953488"
      ]
     },
     "execution_count": 41,
     "metadata": {},
     "output_type": "execute_result"
    }
   ],
   "source": [
    "perc_sentiments"
   ]
  },
  {
   "cell_type": "code",
   "execution_count": 42,
   "metadata": {},
   "outputs": [
    {
     "data": {
      "text/plain": [
       "1.4189640680009235"
      ]
     },
     "execution_count": 42,
     "metadata": {},
     "output_type": "execute_result"
    }
   ],
   "source": [
    "#Nahuatl has 1.4x more neutral statements\n",
    "62.698413/44.186047"
   ]
  },
  {
   "cell_type": "code",
   "execution_count": 43,
   "metadata": {},
   "outputs": [
    {
     "data": {
      "text/plain": [
       "1.3186046369511628"
      ]
     },
     "execution_count": 43,
     "metadata": {},
     "output_type": "execute_result"
    }
   ],
   "source": [
    "#Spanish has 1.3x more negative statemetns\n",
    "41.860465/31.746032"
   ]
  },
  {
   "cell_type": "code",
   "execution_count": 44,
   "metadata": {},
   "outputs": [
    {
     "data": {
      "text/plain": [
       "2.511627639069789"
      ]
     },
     "execution_count": 44,
     "metadata": {},
     "output_type": "execute_result"
    }
   ],
   "source": [
    "#Spanish has 2.5x more positive statements\n",
    "13.953488/5.555556"
   ]
  },
  {
   "cell_type": "markdown",
   "metadata": {},
   "source": [
    "# Bag of Words + Sentiment Analysis Exploration\n",
    "\n",
    "Yes, stanza already tokenized & annotated the text. I am essentially doing it again using some NLTK and SKLearn tools."
   ]
  },
  {
   "cell_type": "code",
   "execution_count": 45,
   "metadata": {},
   "outputs": [
    {
     "data": {
      "text/plain": [
       "'Nineteenth chapter, where it is said\\nhow the Spaniards ordered the Mexica to\\nhold the festivity of Huitzilopochtli.'"
      ]
     },
     "execution_count": 45,
     "metadata": {},
     "output_type": "execute_result"
    }
   ],
   "source": [
    "sentiments.reset_index(inplace=True) #Reset index from hierarchical index\n",
    "sentiments['text'][0] #test new index"
   ]
  },
  {
   "cell_type": "code",
   "execution_count": 46,
   "metadata": {},
   "outputs": [],
   "source": [
    "import string\n",
    "\n",
    "def text_process(mess):\n",
    "    \"\"\"\n",
    "    Takes in a string of text, then performs the following:\n",
    "    1. Remove all punctuation\n",
    "    2. Remove all stopwords\n",
    "    3. Returns a list of the cleaned text\n",
    "    \"\"\"\n",
    "    # Check characters to see if they are in punctuation\n",
    "    nopunc = [char for char in mess if char not in string.punctuation]\n",
    "\n",
    "    # Join the characters again to form the string.\n",
    "    nopunc = ''.join(nopunc)\n",
    "    \n",
    "    # Now just remove any stopwords\n",
    "    return [word for word in nopunc.split() if word.lower() not in stopwords]"
   ]
  },
  {
   "cell_type": "code",
   "execution_count": 47,
   "metadata": {},
   "outputs": [
    {
     "data": {
      "text/plain": [
       "0    [Nineteenth, chapter, said, Spaniards, ordered...\n",
       "1    [happened, Captain, present, time, went, coast...\n",
       "2    [afterward, Pedro, de, Alvarado, requested, fe...\n",
       "3    [Thereupon, Moteuccoma, gave, orders, subordin...\n",
       "4    [announcement, came, Moteuccoma, detained, wom...\n",
       "Name: text, dtype: object"
      ]
     },
     "execution_count": 47,
     "metadata": {},
     "output_type": "execute_result"
    }
   ],
   "source": [
    "sentiments['text'].head(5).apply(text_process) #Test the function"
   ]
  },
  {
   "cell_type": "code",
   "execution_count": 48,
   "metadata": {},
   "outputs": [
    {
     "data": {
      "text/plain": [
       "0    Nineteenth chapter, where it is said\\nhow the ...\n",
       "1    But\\nwhen this happened the Captain was not\\np...\n",
       "2    And afterward Pedro de Alvarado requested the ...\n",
       "3    Thereupon Moteuccoma gave the orders;\\nthose o...\n",
       "4    And when the announcement came out from where ...\n",
       "Name: text, dtype: object"
      ]
     },
     "execution_count": 48,
     "metadata": {},
     "output_type": "execute_result"
    }
   ],
   "source": [
    "sentiments['text'].head(5) #Compare to Original"
   ]
  },
  {
   "cell_type": "code",
   "execution_count": 49,
   "metadata": {},
   "outputs": [],
   "source": [
    "from sklearn.feature_extraction.text import CountVectorizer"
   ]
  },
  {
   "cell_type": "code",
   "execution_count": 50,
   "metadata": {},
   "outputs": [],
   "source": [
    "bow_transformer = CountVectorizer(analyzer=text_process).fit(sentiments['text']) #Vectorizer"
   ]
  },
  {
   "cell_type": "code",
   "execution_count": 51,
   "metadata": {},
   "outputs": [
    {
     "name": "stdout",
     "output_type": "stream",
     "text": [
      "803\n"
     ]
    }
   ],
   "source": [
    "print(len(bow_transformer.vocabulary_)) #Total vocab words"
   ]
  },
  {
   "cell_type": "code",
   "execution_count": 52,
   "metadata": {},
   "outputs": [
    {
     "name": "stdout",
     "output_type": "stream",
     "text": [
      "Nineteenth chapter, where it is said\n",
      "how the Spaniards ordered the Mexica to\n",
      "hold the festivity of Huitzilopochtli.\n"
     ]
    }
   ],
   "source": [
    "#Test of vectorizer\n",
    "test_text = sentiments['text'][0] #original\n",
    "print(test_text)"
   ]
  },
  {
   "cell_type": "code",
   "execution_count": 53,
   "metadata": {},
   "outputs": [],
   "source": [
    "bow0 = bow_transformer.transform([test_text])"
   ]
  },
  {
   "cell_type": "code",
   "execution_count": 54,
   "metadata": {},
   "outputs": [
    {
     "name": "stdout",
     "output_type": "stream",
     "text": [
      "  (0, 23)\t1\n",
      "  (0, 29)\t1\n",
      "  (0, 36)\t1\n",
      "  (0, 45)\t1\n",
      "  (0, 176)\t1\n",
      "  (0, 298)\t1\n",
      "  (0, 374)\t1\n",
      "  (0, 512)\t1\n",
      "  (0, 604)\t1\n",
      "(1, 803)\n"
     ]
    }
   ],
   "source": [
    "print(bow0)\n",
    "print(bow0.shape) #It works! 9 unique words"
   ]
  },
  {
   "cell_type": "code",
   "execution_count": null,
   "metadata": {},
   "outputs": [],
   "source": []
  }
 ],
 "metadata": {
  "kernelspec": {
   "display_name": "Python 3",
   "language": "python",
   "name": "python3"
  },
  "language_info": {
   "codemirror_mode": {
    "name": "ipython",
    "version": 3
   },
   "file_extension": ".py",
   "mimetype": "text/x-python",
   "name": "python",
   "nbconvert_exporter": "python",
   "pygments_lexer": "ipython3",
   "version": "3.7.9"
  }
 },
 "nbformat": 4,
 "nbformat_minor": 4
}
